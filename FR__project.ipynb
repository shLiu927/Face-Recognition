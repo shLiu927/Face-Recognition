{
  "nbformat": 4,
  "nbformat_minor": 0,
  "metadata": {
    "file_extension": ".py",
    "kernelspec": {
      "display_name": "Python 3",
      "language": "python",
      "name": "python3"
    },
    "language_info": {
      "codemirror_mode": {
        "name": "ipython",
        "version": 3
      },
      "file_extension": ".py",
      "mimetype": "text/x-python",
      "name": "python",
      "nbconvert_exporter": "python",
      "pygments_lexer": "ipython3",
      "version": "3.7.3"
    },
    "mimetype": "text/x-python",
    "name": "python",
    "npconvert_exporter": "python",
    "pygments_lexer": "ipython3",
    "version": 3,
    "colab": {
      "name": "FR_project.ipynb",
      "provenance": [],
      "collapsed_sections": []
    }
  },
  "cells": [
    {
      "cell_type": "code",
      "metadata": {
        "id": "JQlAr49cqU7H",
        "colab_type": "code",
        "colab": {
          "base_uri": "https://localhost:8080/",
          "height": 187
        },
        "outputId": "b51f160a-ced7-49e2-a27c-b18f99ff9a86"
      },
      "source": [
        "!pip install mtcnn"
      ],
      "execution_count": 1,
      "outputs": [
        {
          "output_type": "stream",
          "text": [
            "Requirement already satisfied: mtcnn in /usr/local/lib/python3.6/dist-packages (0.1.0)\n",
            "Requirement already satisfied: opencv-python>=4.1.0 in /usr/local/lib/python3.6/dist-packages (from mtcnn) (4.1.2.30)\n",
            "Requirement already satisfied: keras>=2.0.0 in /usr/local/lib/python3.6/dist-packages (from mtcnn) (2.3.1)\n",
            "Requirement already satisfied: numpy>=1.11.3 in /usr/local/lib/python3.6/dist-packages (from opencv-python>=4.1.0->mtcnn) (1.18.2)\n",
            "Requirement already satisfied: keras-applications>=1.0.6 in /usr/local/lib/python3.6/dist-packages (from keras>=2.0.0->mtcnn) (1.0.8)\n",
            "Requirement already satisfied: pyyaml in /usr/local/lib/python3.6/dist-packages (from keras>=2.0.0->mtcnn) (3.13)\n",
            "Requirement already satisfied: six>=1.9.0 in /usr/local/lib/python3.6/dist-packages (from keras>=2.0.0->mtcnn) (1.12.0)\n",
            "Requirement already satisfied: scipy>=0.14 in /usr/local/lib/python3.6/dist-packages (from keras>=2.0.0->mtcnn) (1.4.1)\n",
            "Requirement already satisfied: h5py in /usr/local/lib/python3.6/dist-packages (from keras>=2.0.0->mtcnn) (2.10.0)\n",
            "Requirement already satisfied: keras-preprocessing>=1.0.5 in /usr/local/lib/python3.6/dist-packages (from keras>=2.0.0->mtcnn) (1.1.0)\n"
          ],
          "name": "stdout"
        }
      ]
    },
    {
      "cell_type": "code",
      "metadata": {
        "id": "1W6j22rmqIRz",
        "colab_type": "code",
        "colab": {}
      },
      "source": [
        "import numpy as np\n",
        "from PIL import Image\n",
        "from tensorflow.keras.models import load_model\n",
        "import mtcnn\n",
        "import matplotlib.pyplot as plt\n",
        "import os \n",
        "from sklearn.metrics import accuracy_score\n",
        "from sklearn.preprocessing import LabelEncoder\n",
        "from sklearn.preprocessing import Normalizer\n",
        "from sklearn.svm import SVC\n",
        "from sklearn.tree import DecisionTreeClassifier\n",
        "from sklearn.neural_network import MLPClassifier\n",
        "from sklearn.neighbors import KNeighborsClassifier\n",
        "from sklearn.metrics import plot_confusion_matrix\n",
        "import tensorflow  as tf\n",
        "import tensorflow.keras  as keras\n",
        "from mtcnn.mtcnn import MTCNN"
      ],
      "execution_count": 0,
      "outputs": []
    },
    {
      "cell_type": "code",
      "metadata": {
        "id": "ZaJU08Exqo85",
        "colab_type": "code",
        "colab": {
          "base_uri": "https://localhost:8080/",
          "height": 34
        },
        "outputId": "8061a626-2202-4f88-811d-da7070663ab4"
      },
      "source": [
        "from google.colab import drive\n",
        "drive.mount('/content/gdrive')"
      ],
      "execution_count": 3,
      "outputs": [
        {
          "output_type": "stream",
          "text": [
            "Drive already mounted at /content/gdrive; to attempt to forcibly remount, call drive.mount(\"/content/gdrive\", force_remount=True).\n"
          ],
          "name": "stdout"
        }
      ]
    },
    {
      "cell_type": "code",
      "metadata": {
        "id": "SqbC_PTdqIR5",
        "colab_type": "code",
        "colab": {}
      },
      "source": [
        "# face detection\n",
        "def extract_face(img, required_size=(160, 160)):\n",
        "    image = Image.open(img)\n",
        "    image = image.convert('RGB')\n",
        "    pixels = np.asarray(image)\n",
        "\n",
        "\n",
        "    # create an MTCNN face detector class and use it to detect all faces in the loaded photograph\n",
        "    detector = mtcnn.MTCNN()\n",
        "    results = detector.detect_faces(pixels)\n",
        "\n",
        "    # if there is only one face in the photo\n",
        "    # we can determine the pixel coordinates of the bounding box\n",
        "    if results != []:\n",
        "        x1, y1, width, height = results[0]['box']\n",
        "        x1, y1 = np.abs(x1), np.abs(y1)     # bug fix\n",
        "        x2, y2 = x1 + width, y1 + height\n",
        "\n",
        "        # we can use these coordinates to extract the face\n",
        "        face = pixels[y1:y2, x1:x2]\n",
        "\n",
        "        # use the PIL library to resize the small image of the face to the required size;\n",
        "        # note: the model expects square input faces with shape 160 x 160\n",
        "        image = Image.fromarray(face)\n",
        "        image = image.resize(required_size)\n",
        "        face_array = np.asarray(image)\n",
        "        \n",
        "        return face_array\n",
        "    else:\n",
        "        return None\n",
        "    "
      ],
      "execution_count": 0,
      "outputs": []
    },
    {
      "cell_type": "code",
      "metadata": {
        "scrolled": true,
        "id": "Q75qdgq_qIR9",
        "colab_type": "code",
        "colab": {
          "base_uri": "https://localhost:8080/",
          "height": 457
        },
        "outputId": "73eb1547-791f-4311-e521-d00990c29e0f"
      },
      "source": [
        "# specify folder for testing\n",
        "folder = '/content/gdrive/My Drive/dataset2/training/olivia/'\n",
        "i = 1\n",
        "for img in os.listdir(folder):\n",
        "\t# path\n",
        "    path = folder + img\n",
        "    #print(path)\n",
        "    #get face\n",
        "    face = extract_face(path)\n",
        "    print(i, face.shape)\n",
        "    #plot\n",
        "    plt.subplot(2, 8, i)\n",
        "    plt.axis('off')\n",
        "    plt.imshow(face)\n",
        "    i += 1\n",
        "plt.show()"
      ],
      "execution_count": 5,
      "outputs": [
        {
          "output_type": "stream",
          "text": [
            "1 (160, 160, 3)\n",
            "2 (160, 160, 3)\n",
            "3 (160, 160, 3)\n",
            "4 (160, 160, 3)\n",
            "5 (160, 160, 3)\n",
            "6 (160, 160, 3)\n",
            "7 (160, 160, 3)\n",
            "8 (160, 160, 3)\n",
            "9 (160, 160, 3)\n",
            "10 (160, 160, 3)\n",
            "11 (160, 160, 3)\n",
            "12 (160, 160, 3)\n",
            "13 (160, 160, 3)\n",
            "14 (160, 160, 3)\n",
            "15 (160, 160, 3)\n",
            "16 (160, 160, 3)\n"
          ],
          "name": "stdout"
        },
        {
          "output_type": "display_data",
          "data": {
            "image/png": "[encoded data removed]",
            "text/plain": [
              "<Figure size 432x288 with 16 Axes>"
            ]
          },
          "metadata": {
            "tags": [],
            "needs_background": "light"
          }
        }
      ]
    },
    {
      "cell_type": "code",
      "metadata": {
        "id": "x88HsS3jqISC",
        "colab_type": "code",
        "colab": {}
      },
      "source": [
        "# define a function to load face into a list \n",
        "# extract faces for all images in a directory\n",
        "def load_faces(directory):\n",
        "    faces = list()\n",
        "    for filename in os.listdir(directory):\n",
        "        path = directory + filename\n",
        "        face = extract_face(path)\n",
        "        if (faces != None):\n",
        "            faces.append(face)\n",
        "    return faces\n",
        "\n",
        "def load_dataset(directory):\n",
        "    X, y = list(), list()\n",
        "    for subdir in os.listdir(directory):\n",
        "        path = directory + subdir + '/'\n",
        "\n",
        "        # skip any files that might be in the dir\n",
        "        if not os.path.isdir(path):\n",
        "            continue\n",
        "        faces = load_faces(path)\n",
        "\n",
        "        # create labels\n",
        "        labels = [subdir for _ in range(len(faces))]\n",
        "        print('>loaded %d examples for class: %s' % (len(faces), subdir))\n",
        "\n",
        "        X.extend(faces)\n",
        "        y.extend(labels)\n",
        "    return np.asarray(X), np.asarray(y)"
      ],
      "execution_count": 0,
      "outputs": []
    },
    {
      "cell_type": "code",
      "metadata": {
        "scrolled": true,
        "id": "NxXAu9b-qISH",
        "colab_type": "code",
        "colab": {
          "base_uri": "https://localhost:8080/",
          "height": 391
        },
        "outputId": "2ddc7454-f45a-4e24-f05e-a6a11a8d3dff"
      },
      "source": [
        "# load train dataset\n",
        "trainX, trainy = load_dataset('/content/gdrive/My Drive/dataset2/training/')\n",
        "print(trainX.shape, trainy.shape)\n",
        "# load test dataset\n",
        "testX, testy = load_dataset('/content/gdrive/My Drive/dataset2/testing/')\n",
        "print(testX.shape, testy.shape)\n",
        "# save arrays to one file in compressed format\n",
        "np.savez_compressed('dataset.npz', trainX, trainy, testX, testy)"
      ],
      "execution_count": 7,
      "outputs": [
        {
          "output_type": "stream",
          "text": [
            ">loaded 16 examples for class: yangzhiting\n",
            ">loaded 16 examples for class: jiayue\n",
            ">loaded 16 examples for class: zhouguanghui\n",
            ">loaded 16 examples for class: xiwei\n",
            ">loaded 16 examples for class: lora\n",
            ">loaded 16 examples for class: mag\n",
            ">loaded 16 examples for class: yuting\n",
            ">loaded 16 examples for class: huangjenney\n",
            ">loaded 16 examples for class: olivia\n",
            ">loaded 16 examples for class: lilewei\n",
            "(160,) (160,)\n",
            ">loaded 4 examples for class: jiayue\n",
            ">loaded 4 examples for class: zhouguanghui\n",
            ">loaded 4 examples for class: xiwei\n",
            ">loaded 4 examples for class: lora\n",
            ">loaded 4 examples for class: mag\n",
            ">loaded 4 examples for class: yuting\n",
            ">loaded 4 examples for class: olivia\n",
            ">loaded 4 examples for class: huangjenney\n",
            ">loaded 4 examples for class: yangzhiting\n",
            ">loaded 4 examples for class: lilewei\n",
            "(40,) (40,)\n"
          ],
          "name": "stdout"
        }
      ]
    },
    {
      "cell_type": "code",
      "metadata": {
        "id": "VULyD0pGqISL",
        "colab_type": "code",
        "colab": {
          "base_uri": "https://localhost:8080/",
          "height": 34
        },
        "outputId": "e1f594a9-19b9-4422-e5dd-ce9061b98376"
      },
      "source": [
        "# load the face dataset\n",
        "data = np.load('dataset.npz', allow_pickle=True)\n",
        "trainX, trainy, testX, testy = data['arr_0'], data['arr_1'], data['arr_2'], data['arr_3']\n",
        "print('Loaded: ', trainX.shape, trainy.shape, testX.shape, testy.shape)\n"
      ],
      "execution_count": 8,
      "outputs": [
        {
          "output_type": "stream",
          "text": [
            "Loaded:  (160,) (160,) (40,) (40,)\n"
          ],
          "name": "stdout"
        }
      ]
    },
    {
      "cell_type": "code",
      "metadata": {
        "id": "B5jywaMHqISQ",
        "colab_type": "code",
        "colab": {}
      },
      "source": [
        "#################################################################################\n",
        "# To extract an embedding, \n",
        "# first the pixel values of the image need to be suitably prepared \n",
        "# to meet the expectations of the FaceNet model. \n",
        "# This specific implementation of the FaceNet model expects that the pixel values are standardized.\n",
        "#################################################################################\n",
        "# scale pixel values\n",
        "# face_pixels = trainX[0]\n",
        "def get_embedding(model, face_pixels):\n",
        "    face_pixels = face_pixels.astype('float32')\n",
        "    # standardize pixel values across channels (global)\n",
        "    mean, std = face_pixels.mean(), face_pixels.std()\n",
        "    face_pixels = (face_pixels - mean) / std\n",
        "\n",
        "    # transform face into one sample\n",
        "    samples = np.expand_dims(face_pixels, axis=0)\n",
        "\n",
        "    yhat = model.predict(samples)\n",
        "    # get embedding\n",
        "    embedding = yhat[0]\n",
        "\n",
        "    return embedding"
      ],
      "execution_count": 0,
      "outputs": []
    },
    {
      "cell_type": "code",
      "metadata": {
        "tags": [
          "outputPrepend"
        ],
        "id": "yFeou23-qISV",
        "colab_type": "code",
        "colab": {
          "base_uri": "https://localhost:8080/",
          "height": 1000
        },
        "outputId": "464f12f4-3ced-47f8-95f0-8cb9c7f29ef0"
      },
      "source": [
        "# load the facenet model\n",
        "model = load_model('/content/gdrive/My Drive/facenet_keras.h5')\n",
        "model.summary()"
      ],
      "execution_count": 10,
      "outputs": [
        {
          "output_type": "stream",
          "text": [
            "WARNING:tensorflow:No training configuration found in the save file, so the model was *not* compiled. Compile it manually.\n",
            "Model: \"inception_resnet_v1\"\n",
            "__________________________________________________________________________________________________\n",
            "Layer (type)                    Output Shape         Param #     Connected to                     \n",
            "==================================================================================================\n",
            "input_1 (InputLayer)            [(None, 160, 160, 3) 0                                            \n",
            "__________________________________________________________________________________________________\n",
            "Conv2d_1a_3x3 (Conv2D)          (None, 79, 79, 32)   864         input_1[0][0]                    \n",
            "__________________________________________________________________________________________________\n",
            "Conv2d_1a_3x3_BatchNorm (BatchN (None, 79, 79, 32)   96          Conv2d_1a_3x3[0][0]              \n",
            "__________________________________________________________________________________________________\n",
            "Conv2d_1a_3x3_Activation (Activ (None, 79, 79, 32)   0           Conv2d_1a_3x3_BatchNorm[0][0]    \n",
            "__________________________________________________________________________________________________\n",
            "Conv2d_2a_3x3 (Conv2D)          (None, 77, 77, 32)   9216        Conv2d_1a_3x3_Activation[0][0]   \n",
            "__________________________________________________________________________________________________\n",
            "Conv2d_2a_3x3_BatchNorm (BatchN (None, 77, 77, 32)   96          Conv2d_2a_3x3[0][0]              \n",
            "__________________________________________________________________________________________________\n",
            "Conv2d_2a_3x3_Activation (Activ (None, 77, 77, 32)   0           Conv2d_2a_3x3_BatchNorm[0][0]    \n",
            "__________________________________________________________________________________________________\n",
            "Conv2d_2b_3x3 (Conv2D)          (None, 77, 77, 64)   18432       Conv2d_2a_3x3_Activation[0][0]   \n",
            "__________________________________________________________________________________________________\n",
            "Conv2d_2b_3x3_BatchNorm (BatchN (None, 77, 77, 64)   192         Conv2d_2b_3x3[0][0]              \n",
            "__________________________________________________________________________________________________\n",
            "Conv2d_2b_3x3_Activation (Activ (None, 77, 77, 64)   0           Conv2d_2b_3x3_BatchNorm[0][0]    \n",
            "__________________________________________________________________________________________________\n",
            "MaxPool_3a_3x3 (MaxPooling2D)   (None, 38, 38, 64)   0           Conv2d_2b_3x3_Activation[0][0]   \n",
            "__________________________________________________________________________________________________\n",
            "Conv2d_3b_1x1 (Conv2D)          (None, 38, 38, 80)   5120        MaxPool_3a_3x3[0][0]             \n",
            "__________________________________________________________________________________________________\n",
            "Conv2d_3b_1x1_BatchNorm (BatchN (None, 38, 38, 80)   240         Conv2d_3b_1x1[0][0]              \n",
            "__________________________________________________________________________________________________\n",
            "Conv2d_3b_1x1_Activation (Activ (None, 38, 38, 80)   0           Conv2d_3b_1x1_BatchNorm[0][0]    \n",
            "__________________________________________________________________________________________________\n",
            "Conv2d_4a_3x3 (Conv2D)          (None, 36, 36, 192)  138240      Conv2d_3b_1x1_Activation[0][0]   \n",
            "__________________________________________________________________________________________________\n",
            "Conv2d_4a_3x3_BatchNorm (BatchN (None, 36, 36, 192)  576         Conv2d_4a_3x3[0][0]              \n",
            "__________________________________________________________________________________________________\n",
            "Conv2d_4a_3x3_Activation (Activ (None, 36, 36, 192)  0           Conv2d_4a_3x3_BatchNorm[0][0]    \n",
            "__________________________________________________________________________________________________\n",
            "Conv2d_4b_3x3 (Conv2D)          (None, 17, 17, 256)  442368      Conv2d_4a_3x3_Activation[0][0]   \n",
            "__________________________________________________________________________________________________\n",
            "Conv2d_4b_3x3_BatchNorm (BatchN (None, 17, 17, 256)  768         Conv2d_4b_3x3[0][0]              \n",
            "__________________________________________________________________________________________________\n",
            "Conv2d_4b_3x3_Activation (Activ (None, 17, 17, 256)  0           Conv2d_4b_3x3_BatchNorm[0][0]    \n",
            "__________________________________________________________________________________________________\n",
            "Block35_1_Branch_2_Conv2d_0a_1x (None, 17, 17, 32)   8192        Conv2d_4b_3x3_Activation[0][0]   \n",
            "__________________________________________________________________________________________________\n",
            "Block35_1_Branch_2_Conv2d_0a_1x (None, 17, 17, 32)   96          Block35_1_Branch_2_Conv2d_0a_1x1[\n",
            "__________________________________________________________________________________________________\n",
            "Block35_1_Branch_2_Conv2d_0a_1x (None, 17, 17, 32)   0           Block35_1_Branch_2_Conv2d_0a_1x1_\n",
            "__________________________________________________________________________________________________\n",
            "Block35_1_Branch_1_Conv2d_0a_1x (None, 17, 17, 32)   8192        Conv2d_4b_3x3_Activation[0][0]   \n",
            "__________________________________________________________________________________________________\n",
            "Block35_1_Branch_2_Conv2d_0b_3x (None, 17, 17, 32)   9216        Block35_1_Branch_2_Conv2d_0a_1x1_\n",
            "__________________________________________________________________________________________________\n",
            "Block35_1_Branch_1_Conv2d_0a_1x (None, 17, 17, 32)   96          Block35_1_Branch_1_Conv2d_0a_1x1[\n",
            "__________________________________________________________________________________________________\n",
            "Block35_1_Branch_2_Conv2d_0b_3x (None, 17, 17, 32)   96          Block35_1_Branch_2_Conv2d_0b_3x3[\n",
            "__________________________________________________________________________________________________\n",
            "Block35_1_Branch_1_Conv2d_0a_1x (None, 17, 17, 32)   0           Block35_1_Branch_1_Conv2d_0a_1x1_\n",
            "__________________________________________________________________________________________________\n",
            "Block35_1_Branch_2_Conv2d_0b_3x (None, 17, 17, 32)   0           Block35_1_Branch_2_Conv2d_0b_3x3_\n",
            "__________________________________________________________________________________________________\n",
            "Block35_1_Branch_0_Conv2d_1x1 ( (None, 17, 17, 32)   8192        Conv2d_4b_3x3_Activation[0][0]   \n",
            "__________________________________________________________________________________________________\n",
            "Block35_1_Branch_1_Conv2d_0b_3x (None, 17, 17, 32)   9216        Block35_1_Branch_1_Conv2d_0a_1x1_\n",
            "__________________________________________________________________________________________________\n",
            "Block35_1_Branch_2_Conv2d_0c_3x (None, 17, 17, 32)   9216        Block35_1_Branch_2_Conv2d_0b_3x3_\n",
            "__________________________________________________________________________________________________\n",
            "Block35_1_Branch_0_Conv2d_1x1_B (None, 17, 17, 32)   96          Block35_1_Branch_0_Conv2d_1x1[0][\n",
            "__________________________________________________________________________________________________\n",
            "Block35_1_Branch_1_Conv2d_0b_3x (None, 17, 17, 32)   96          Block35_1_Branch_1_Conv2d_0b_3x3[\n",
            "__________________________________________________________________________________________________\n",
            "Block35_1_Branch_2_Conv2d_0c_3x (None, 17, 17, 32)   96          Block35_1_Branch_2_Conv2d_0c_3x3[\n",
            "__________________________________________________________________________________________________\n",
            "Block35_1_Branch_0_Conv2d_1x1_A (None, 17, 17, 32)   0           Block35_1_Branch_0_Conv2d_1x1_Bat\n",
            "__________________________________________________________________________________________________\n",
            "Block35_1_Branch_1_Conv2d_0b_3x (None, 17, 17, 32)   0           Block35_1_Branch_1_Conv2d_0b_3x3_\n",
            "__________________________________________________________________________________________________\n",
            "Block35_1_Branch_2_Conv2d_0c_3x (None, 17, 17, 32)   0           Block35_1_Branch_2_Conv2d_0c_3x3_\n",
            "__________________________________________________________________________________________________\n",
            "Block35_1_Concatenate (Concaten (None, 17, 17, 96)   0           Block35_1_Branch_0_Conv2d_1x1_Act\n",
            "                                                                 Block35_1_Branch_1_Conv2d_0b_3x3_\n",
            "                                                                 Block35_1_Branch_2_Conv2d_0c_3x3_\n",
            "__________________________________________________________________________________________________\n",
            "Block35_1_Conv2d_1x1 (Conv2D)   (None, 17, 17, 256)  24832       Block35_1_Concatenate[0][0]      \n",
            "__________________________________________________________________________________________________\n",
            "Block35_1_ScaleSum (Lambda)     (None, 17, 17, 256)  0           Conv2d_4b_3x3_Activation[0][0]   \n",
            "                                                                 Block35_1_Conv2d_1x1[0][0]       \n",
            "__________________________________________________________________________________________________\n",
            "Block35_1_Activation (Activatio (None, 17, 17, 256)  0           Block35_1_ScaleSum[0][0]         \n",
            "__________________________________________________________________________________________________\n",
            "Block35_2_Branch_2_Conv2d_0a_1x (None, 17, 17, 32)   8192        Block35_1_Activation[0][0]       \n",
            "__________________________________________________________________________________________________\n",
            "Block35_2_Branch_2_Conv2d_0a_1x (None, 17, 17, 32)   96          Block35_2_Branch_2_Conv2d_0a_1x1[\n",
            "__________________________________________________________________________________________________\n",
            "Block35_2_Branch_2_Conv2d_0a_1x (None, 17, 17, 32)   0           Block35_2_Branch_2_Conv2d_0a_1x1_\n",
            "__________________________________________________________________________________________________\n",
            "Block35_2_Branch_1_Conv2d_0a_1x (None, 17, 17, 32)   8192        Block35_1_Activation[0][0]       \n",
            "__________________________________________________________________________________________________\n",
            "Block35_2_Branch_2_Conv2d_0b_3x (None, 17, 17, 32)   9216        Block35_2_Branch_2_Conv2d_0a_1x1_\n",
            "__________________________________________________________________________________________________\n",
            "Block35_2_Branch_1_Conv2d_0a_1x (None, 17, 17, 32)   96          Block35_2_Branch_1_Conv2d_0a_1x1[\n",
            "__________________________________________________________________________________________________\n",
            "Block35_2_Branch_2_Conv2d_0b_3x (None, 17, 17, 32)   96          Block35_2_Branch_2_Conv2d_0b_3x3[\n",
            "__________________________________________________________________________________________________\n",
            "Block35_2_Branch_1_Conv2d_0a_1x (None, 17, 17, 32)   0           Block35_2_Branch_1_Conv2d_0a_1x1_\n",
            "__________________________________________________________________________________________________\n",
            "Block35_2_Branch_2_Conv2d_0b_3x (None, 17, 17, 32)   0           Block35_2_Branch_2_Conv2d_0b_3x3_\n",
            "__________________________________________________________________________________________________\n",
            "Block35_2_Branch_0_Conv2d_1x1 ( (None, 17, 17, 32)   8192        Block35_1_Activation[0][0]       \n",
            "__________________________________________________________________________________________________\n",
            "Block35_2_Branch_1_Conv2d_0b_3x (None, 17, 17, 32)   9216        Block35_2_Branch_1_Conv2d_0a_1x1_\n",
            "__________________________________________________________________________________________________\n",
            "Block35_2_Branch_2_Conv2d_0c_3x (None, 17, 17, 32)   9216        Block35_2_Branch_2_Conv2d_0b_3x3_\n",
            "__________________________________________________________________________________________________\n",
            "Block35_2_Branch_0_Conv2d_1x1_B (None, 17, 17, 32)   96          Block35_2_Branch_0_Conv2d_1x1[0][\n",
            "__________________________________________________________________________________________________\n",
            "Block35_2_Branch_1_Conv2d_0b_3x (None, 17, 17, 32)   96          Block35_2_Branch_1_Conv2d_0b_3x3[\n",
            "__________________________________________________________________________________________________\n",
            "Block35_2_Branch_2_Conv2d_0c_3x (None, 17, 17, 32)   96          Block35_2_Branch_2_Conv2d_0c_3x3[\n",
            "__________________________________________________________________________________________________\n",
            "Block35_2_Branch_0_Conv2d_1x1_A (None, 17, 17, 32)   0           Block35_2_Branch_0_Conv2d_1x1_Bat\n",
            "__________________________________________________________________________________________________\n",
            "Block35_2_Branch_1_Conv2d_0b_3x (None, 17, 17, 32)   0           Block35_2_Branch_1_Conv2d_0b_3x3_\n",
            "__________________________________________________________________________________________________\n",
            "Block35_2_Branch_2_Conv2d_0c_3x (None, 17, 17, 32)   0           Block35_2_Branch_2_Conv2d_0c_3x3_\n",
            "__________________________________________________________________________________________________\n",
            "Block35_2_Concatenate (Concaten (None, 17, 17, 96)   0           Block35_2_Branch_0_Conv2d_1x1_Act\n",
            "                                                                 Block35_2_Branch_1_Conv2d_0b_3x3_\n",
            "                                                                 Block35_2_Branch_2_Conv2d_0c_3x3_\n",
            "__________________________________________________________________________________________________\n",
            "Block35_2_Conv2d_1x1 (Conv2D)   (None, 17, 17, 256)  24832       Block35_2_Concatenate[0][0]      \n",
            "__________________________________________________________________________________________________\n",
            "Block35_2_ScaleSum (Lambda)     (None, 17, 17, 256)  0           Block35_1_Activation[0][0]       \n",
            "                                                                 Block35_2_Conv2d_1x1[0][0]       \n",
            "__________________________________________________________________________________________________\n",
            "Block35_2_Activation (Activatio (None, 17, 17, 256)  0           Block35_2_ScaleSum[0][0]         \n",
            "__________________________________________________________________________________________________\n",
            "Block35_3_Branch_2_Conv2d_0a_1x (None, 17, 17, 32)   8192        Block35_2_Activation[0][0]       \n",
            "__________________________________________________________________________________________________\n",
            "Block35_3_Branch_2_Conv2d_0a_1x (None, 17, 17, 32)   96          Block35_3_Branch_2_Conv2d_0a_1x1[\n",
            "__________________________________________________________________________________________________\n",
            "Block35_3_Branch_2_Conv2d_0a_1x (None, 17, 17, 32)   0           Block35_3_Branch_2_Conv2d_0a_1x1_\n",
            "__________________________________________________________________________________________________\n",
            "Block35_3_Branch_1_Conv2d_0a_1x (None, 17, 17, 32)   8192        Block35_2_Activation[0][0]       \n",
            "__________________________________________________________________________________________________\n",
            "Block35_3_Branch_2_Conv2d_0b_3x (None, 17, 17, 32)   9216        Block35_3_Branch_2_Conv2d_0a_1x1_\n",
            "__________________________________________________________________________________________________\n",
            "Block35_3_Branch_1_Conv2d_0a_1x (None, 17, 17, 32)   96          Block35_3_Branch_1_Conv2d_0a_1x1[\n",
            "__________________________________________________________________________________________________\n",
            "Block35_3_Branch_2_Conv2d_0b_3x (None, 17, 17, 32)   96          Block35_3_Branch_2_Conv2d_0b_3x3[\n",
            "__________________________________________________________________________________________________\n",
            "Block35_3_Branch_1_Conv2d_0a_1x (None, 17, 17, 32)   0           Block35_3_Branch_1_Conv2d_0a_1x1_\n",
            "__________________________________________________________________________________________________\n",
            "Block35_3_Branch_2_Conv2d_0b_3x (None, 17, 17, 32)   0           Block35_3_Branch_2_Conv2d_0b_3x3_\n",
            "__________________________________________________________________________________________________\n",
            "Block35_3_Branch_0_Conv2d_1x1 ( (None, 17, 17, 32)   8192        Block35_2_Activation[0][0]       \n",
            "__________________________________________________________________________________________________\n",
            "Block35_3_Branch_1_Conv2d_0b_3x (None, 17, 17, 32)   9216        Block35_3_Branch_1_Conv2d_0a_1x1_\n",
            "__________________________________________________________________________________________________\n",
            "Block35_3_Branch_2_Conv2d_0c_3x (None, 17, 17, 32)   9216        Block35_3_Branch_2_Conv2d_0b_3x3_\n",
            "__________________________________________________________________________________________________\n",
            "Block35_3_Branch_0_Conv2d_1x1_B (None, 17, 17, 32)   96          Block35_3_Branch_0_Conv2d_1x1[0][\n",
            "__________________________________________________________________________________________________\n",
            "Block35_3_Branch_1_Conv2d_0b_3x (None, 17, 17, 32)   96          Block35_3_Branch_1_Conv2d_0b_3x3[\n",
            "__________________________________________________________________________________________________\n",
            "Block35_3_Branch_2_Conv2d_0c_3x (None, 17, 17, 32)   96          Block35_3_Branch_2_Conv2d_0c_3x3[\n",
            "__________________________________________________________________________________________________\n",
            "Block35_3_Branch_0_Conv2d_1x1_A (None, 17, 17, 32)   0           Block35_3_Branch_0_Conv2d_1x1_Bat\n",
            "__________________________________________________________________________________________________\n",
            "Block35_3_Branch_1_Conv2d_0b_3x (None, 17, 17, 32)   0           Block35_3_Branch_1_Conv2d_0b_3x3_\n",
            "__________________________________________________________________________________________________\n",
            "Block35_3_Branch_2_Conv2d_0c_3x (None, 17, 17, 32)   0           Block35_3_Branch_2_Conv2d_0c_3x3_\n",
            "__________________________________________________________________________________________________\n",
            "Block35_3_Concatenate (Concaten (None, 17, 17, 96)   0           Block35_3_Branch_0_Conv2d_1x1_Act\n",
            "                                                                 Block35_3_Branch_1_Conv2d_0b_3x3_\n",
            "                                                                 Block35_3_Branch_2_Conv2d_0c_3x3_\n",
            "__________________________________________________________________________________________________\n",
            "Block35_3_Conv2d_1x1 (Conv2D)   (None, 17, 17, 256)  24832       Block35_3_Concatenate[0][0]      \n",
            "__________________________________________________________________________________________________\n",
            "Block35_3_ScaleSum (Lambda)     (None, 17, 17, 256)  0           Block35_2_Activation[0][0]       \n",
            "                                                                 Block35_3_Conv2d_1x1[0][0]       \n",
            "__________________________________________________________________________________________________\n",
            "Block35_3_Activation (Activatio (None, 17, 17, 256)  0           Block35_3_ScaleSum[0][0]         \n",
            "__________________________________________________________________________________________________\n",
            "Block35_4_Branch_2_Conv2d_0a_1x (None, 17, 17, 32)   8192        Block35_3_Activation[0][0]       \n",
            "__________________________________________________________________________________________________\n",
            "Block35_4_Branch_2_Conv2d_0a_1x (None, 17, 17, 32)   96          Block35_4_Branch_2_Conv2d_0a_1x1[\n",
            "__________________________________________________________________________________________________\n",
            "Block35_4_Branch_2_Conv2d_0a_1x (None, 17, 17, 32)   0           Block35_4_Branch_2_Conv2d_0a_1x1_\n",
            "__________________________________________________________________________________________________\n",
            "Block35_4_Branch_1_Conv2d_0a_1x (None, 17, 17, 32)   8192        Block35_3_Activation[0][0]       \n",
            "__________________________________________________________________________________________________\n",
            "Block35_4_Branch_2_Conv2d_0b_3x (None, 17, 17, 32)   9216        Block35_4_Branch_2_Conv2d_0a_1x1_\n",
            "__________________________________________________________________________________________________\n",
            "Block35_4_Branch_1_Conv2d_0a_1x (None, 17, 17, 32)   96          Block35_4_Branch_1_Conv2d_0a_1x1[\n",
            "__________________________________________________________________________________________________\n",
            "Block35_4_Branch_2_Conv2d_0b_3x (None, 17, 17, 32)   96          Block35_4_Branch_2_Conv2d_0b_3x3[\n",
            "__________________________________________________________________________________________________\n",
            "Block35_4_Branch_1_Conv2d_0a_1x (None, 17, 17, 32)   0           Block35_4_Branch_1_Conv2d_0a_1x1_\n",
            "__________________________________________________________________________________________________\n",
            "Block35_4_Branch_2_Conv2d_0b_3x (None, 17, 17, 32)   0           Block35_4_Branch_2_Conv2d_0b_3x3_\n",
            "__________________________________________________________________________________________________\n",
            "Block35_4_Branch_0_Conv2d_1x1 ( (None, 17, 17, 32)   8192        Block35_3_Activation[0][0]       \n",
            "__________________________________________________________________________________________________\n",
            "Block35_4_Branch_1_Conv2d_0b_3x (None, 17, 17, 32)   9216        Block35_4_Branch_1_Conv2d_0a_1x1_\n",
            "__________________________________________________________________________________________________\n",
            "Block35_4_Branch_2_Conv2d_0c_3x (None, 17, 17, 32)   9216        Block35_4_Branch_2_Conv2d_0b_3x3_\n",
            "__________________________________________________________________________________________________\n",
            "Block35_4_Branch_0_Conv2d_1x1_B (None, 17, 17, 32)   96          Block35_4_Branch_0_Conv2d_1x1[0][\n",
            "__________________________________________________________________________________________________\n",
            "Block35_4_Branch_1_Conv2d_0b_3x (None, 17, 17, 32)   96          Block35_4_Branch_1_Conv2d_0b_3x3[\n",
            "__________________________________________________________________________________________________\n",
            "Block35_4_Branch_2_Conv2d_0c_3x (None, 17, 17, 32)   96          Block35_4_Branch_2_Conv2d_0c_3x3[\n",
            "__________________________________________________________________________________________________\n",
            "Block35_4_Branch_0_Conv2d_1x1_A (None, 17, 17, 32)   0           Block35_4_Branch_0_Conv2d_1x1_Bat\n",
            "__________________________________________________________________________________________________\n",
            "Block35_4_Branch_1_Conv2d_0b_3x (None, 17, 17, 32)   0           Block35_4_Branch_1_Conv2d_0b_3x3_\n",
            "__________________________________________________________________________________________________\n",
            "Block35_4_Branch_2_Conv2d_0c_3x (None, 17, 17, 32)   0           Block35_4_Branch_2_Conv2d_0c_3x3_\n",
            "__________________________________________________________________________________________________\n",
            "Block35_4_Concatenate (Concaten (None, 17, 17, 96)   0           Block35_4_Branch_0_Conv2d_1x1_Act\n",
            "                                                                 Block35_4_Branch_1_Conv2d_0b_3x3_\n",
            "                                                                 Block35_4_Branch_2_Conv2d_0c_3x3_\n",
            "__________________________________________________________________________________________________\n",
            "Block35_4_Conv2d_1x1 (Conv2D)   (None, 17, 17, 256)  24832       Block35_4_Concatenate[0][0]      \n",
            "__________________________________________________________________________________________________\n",
            "Block35_4_ScaleSum (Lambda)     (None, 17, 17, 256)  0           Block35_3_Activation[0][0]       \n",
            "                                                                 Block35_4_Conv2d_1x1[0][0]       \n",
            "__________________________________________________________________________________________________\n",
            "Block35_4_Activation (Activatio (None, 17, 17, 256)  0           Block35_4_ScaleSum[0][0]         \n",
            "__________________________________________________________________________________________________\n",
            "Block35_5_Branch_2_Conv2d_0a_1x (None, 17, 17, 32)   8192        Block35_4_Activation[0][0]       \n",
            "__________________________________________________________________________________________________\n",
            "Block35_5_Branch_2_Conv2d_0a_1x (None, 17, 17, 32)   96          Block35_5_Branch_2_Conv2d_0a_1x1[\n",
            "__________________________________________________________________________________________________\n",
            "Block35_5_Branch_2_Conv2d_0a_1x (None, 17, 17, 32)   0           Block35_5_Branch_2_Conv2d_0a_1x1_\n",
            "__________________________________________________________________________________________________\n",
            "Block35_5_Branch_1_Conv2d_0a_1x (None, 17, 17, 32)   8192        Block35_4_Activation[0][0]       \n",
            "__________________________________________________________________________________________________\n",
            "Block35_5_Branch_2_Conv2d_0b_3x (None, 17, 17, 32)   9216        Block35_5_Branch_2_Conv2d_0a_1x1_\n",
            "__________________________________________________________________________________________________\n",
            "Block35_5_Branch_1_Conv2d_0a_1x (None, 17, 17, 32)   96          Block35_5_Branch_1_Conv2d_0a_1x1[\n",
            "__________________________________________________________________________________________________\n",
            "Block35_5_Branch_2_Conv2d_0b_3x (None, 17, 17, 32)   96          Block35_5_Branch_2_Conv2d_0b_3x3[\n",
            "__________________________________________________________________________________________________\n",
            "Block35_5_Branch_1_Conv2d_0a_1x (None, 17, 17, 32)   0           Block35_5_Branch_1_Conv2d_0a_1x1_\n",
            "__________________________________________________________________________________________________\n",
            "Block35_5_Branch_2_Conv2d_0b_3x (None, 17, 17, 32)   0           Block35_5_Branch_2_Conv2d_0b_3x3_\n",
            "__________________________________________________________________________________________________\n",
            "Block35_5_Branch_0_Conv2d_1x1 ( (None, 17, 17, 32)   8192        Block35_4_Activation[0][0]       \n",
            "__________________________________________________________________________________________________\n",
            "Block35_5_Branch_1_Conv2d_0b_3x (None, 17, 17, 32)   9216        Block35_5_Branch_1_Conv2d_0a_1x1_\n",
            "__________________________________________________________________________________________________\n",
            "Block35_5_Branch_2_Conv2d_0c_3x (None, 17, 17, 32)   9216        Block35_5_Branch_2_Conv2d_0b_3x3_\n",
            "__________________________________________________________________________________________________\n",
            "Block35_5_Branch_0_Conv2d_1x1_B (None, 17, 17, 32)   96          Block35_5_Branch_0_Conv2d_1x1[0][\n",
            "__________________________________________________________________________________________________\n",
            "Block35_5_Branch_1_Conv2d_0b_3x (None, 17, 17, 32)   96          Block35_5_Branch_1_Conv2d_0b_3x3[\n",
            "__________________________________________________________________________________________________\n",
            "Block35_5_Branch_2_Conv2d_0c_3x (None, 17, 17, 32)   96          Block35_5_Branch_2_Conv2d_0c_3x3[\n",
            "__________________________________________________________________________________________________\n",
            "Block35_5_Branch_0_Conv2d_1x1_A (None, 17, 17, 32)   0           Block35_5_Branch_0_Conv2d_1x1_Bat\n",
            "__________________________________________________________________________________________________\n",
            "Block35_5_Branch_1_Conv2d_0b_3x (None, 17, 17, 32)   0           Block35_5_Branch_1_Conv2d_0b_3x3_\n",
            "__________________________________________________________________________________________________\n",
            "Block35_5_Branch_2_Conv2d_0c_3x (None, 17, 17, 32)   0           Block35_5_Branch_2_Conv2d_0c_3x3_\n",
            "__________________________________________________________________________________________________\n",
            "Block35_5_Concatenate (Concaten (None, 17, 17, 96)   0           Block35_5_Branch_0_Conv2d_1x1_Act\n",
            "                                                                 Block35_5_Branch_1_Conv2d_0b_3x3_\n",
            "                                                                 Block35_5_Branch_2_Conv2d_0c_3x3_\n",
            "__________________________________________________________________________________________________\n",
            "Block35_5_Conv2d_1x1 (Conv2D)   (None, 17, 17, 256)  24832       Block35_5_Concatenate[0][0]      \n",
            "__________________________________________________________________________________________________\n",
            "Block35_5_ScaleSum (Lambda)     (None, 17, 17, 256)  0           Block35_4_Activation[0][0]       \n",
            "                                                                 Block35_5_Conv2d_1x1[0][0]       \n",
            "__________________________________________________________________________________________________\n",
            "Block35_5_Activation (Activatio (None, 17, 17, 256)  0           Block35_5_ScaleSum[0][0]         \n",
            "__________________________________________________________________________________________________\n",
            "Mixed_6a_Branch_1_Conv2d_0a_1x1 (None, 17, 17, 192)  49152       Block35_5_Activation[0][0]       \n",
            "__________________________________________________________________________________________________\n",
            "Mixed_6a_Branch_1_Conv2d_0a_1x1 (None, 17, 17, 192)  576         Mixed_6a_Branch_1_Conv2d_0a_1x1[0\n",
            "__________________________________________________________________________________________________\n",
            "Mixed_6a_Branch_1_Conv2d_0a_1x1 (None, 17, 17, 192)  0           Mixed_6a_Branch_1_Conv2d_0a_1x1_B\n",
            "__________________________________________________________________________________________________\n",
            "Mixed_6a_Branch_1_Conv2d_0b_3x3 (None, 17, 17, 192)  331776      Mixed_6a_Branch_1_Conv2d_0a_1x1_A\n",
            "__________________________________________________________________________________________________\n",
            "Mixed_6a_Branch_1_Conv2d_0b_3x3 (None, 17, 17, 192)  576         Mixed_6a_Branch_1_Conv2d_0b_3x3[0\n",
            "__________________________________________________________________________________________________\n",
            "Mixed_6a_Branch_1_Conv2d_0b_3x3 (None, 17, 17, 192)  0           Mixed_6a_Branch_1_Conv2d_0b_3x3_B\n",
            "__________________________________________________________________________________________________\n",
            "Mixed_6a_Branch_0_Conv2d_1a_3x3 (None, 8, 8, 384)    884736      Block35_5_Activation[0][0]       \n",
            "__________________________________________________________________________________________________\n",
            "Mixed_6a_Branch_1_Conv2d_1a_3x3 (None, 8, 8, 256)    442368      Mixed_6a_Branch_1_Conv2d_0b_3x3_A\n",
            "__________________________________________________________________________________________________\n",
            "Mixed_6a_Branch_0_Conv2d_1a_3x3 (None, 8, 8, 384)    1152        Mixed_6a_Branch_0_Conv2d_1a_3x3[0\n",
            "__________________________________________________________________________________________________\n",
            "Mixed_6a_Branch_1_Conv2d_1a_3x3 (None, 8, 8, 256)    768         Mixed_6a_Branch_1_Conv2d_1a_3x3[0\n",
            "__________________________________________________________________________________________________\n",
            "Mixed_6a_Branch_0_Conv2d_1a_3x3 (None, 8, 8, 384)    0           Mixed_6a_Branch_0_Conv2d_1a_3x3_B\n",
            "__________________________________________________________________________________________________\n",
            "Mixed_6a_Branch_1_Conv2d_1a_3x3 (None, 8, 8, 256)    0           Mixed_6a_Branch_1_Conv2d_1a_3x3_B\n",
            "__________________________________________________________________________________________________\n",
            "Mixed_6a_Branch_2_MaxPool_1a_3x (None, 8, 8, 256)    0           Block35_5_Activation[0][0]       \n",
            "__________________________________________________________________________________________________\n",
            "Mixed_6a (Concatenate)          (None, 8, 8, 896)    0           Mixed_6a_Branch_0_Conv2d_1a_3x3_A\n",
            "                                                                 Mixed_6a_Branch_1_Conv2d_1a_3x3_A\n",
            "                                                                 Mixed_6a_Branch_2_MaxPool_1a_3x3[\n",
            "__________________________________________________________________________________________________\n",
            "Block17_1_Branch_1_Conv2d_0a_1x (None, 8, 8, 128)    114688      Mixed_6a[0][0]                   \n",
            "__________________________________________________________________________________________________\n",
            "Block17_1_Branch_1_Conv2d_0a_1x (None, 8, 8, 128)    384         Block17_1_Branch_1_Conv2d_0a_1x1[\n",
            "__________________________________________________________________________________________________\n",
            "Block17_1_Branch_1_Conv2d_0a_1x (None, 8, 8, 128)    0           Block17_1_Branch_1_Conv2d_0a_1x1_\n",
            "__________________________________________________________________________________________________\n",
            "Block17_1_Branch_1_Conv2d_0b_1x (None, 8, 8, 128)    114688      Block17_1_Branch_1_Conv2d_0a_1x1_\n",
            "__________________________________________________________________________________________________\n",
            "Block17_1_Branch_1_Conv2d_0b_1x (None, 8, 8, 128)    384         Block17_1_Branch_1_Conv2d_0b_1x7[\n",
            "__________________________________________________________________________________________________\n",
            "Block17_1_Branch_1_Conv2d_0b_1x (None, 8, 8, 128)    0           Block17_1_Branch_1_Conv2d_0b_1x7_\n",
            "__________________________________________________________________________________________________\n",
            "Block17_1_Branch_0_Conv2d_1x1 ( (None, 8, 8, 128)    114688      Mixed_6a[0][0]                   \n",
            "__________________________________________________________________________________________________\n",
            "Block17_1_Branch_1_Conv2d_0c_7x (None, 8, 8, 128)    114688      Block17_1_Branch_1_Conv2d_0b_1x7_\n",
            "__________________________________________________________________________________________________\n",
            "Block17_1_Branch_0_Conv2d_1x1_B (None, 8, 8, 128)    384         Block17_1_Branch_0_Conv2d_1x1[0][\n",
            "__________________________________________________________________________________________________\n",
            "Block17_1_Branch_1_Conv2d_0c_7x (None, 8, 8, 128)    384         Block17_1_Branch_1_Conv2d_0c_7x1[\n",
            "__________________________________________________________________________________________________\n",
            "Block17_1_Branch_0_Conv2d_1x1_A (None, 8, 8, 128)    0           Block17_1_Branch_0_Conv2d_1x1_Bat\n",
            "__________________________________________________________________________________________________\n",
            "Block17_1_Branch_1_Conv2d_0c_7x (None, 8, 8, 128)    0           Block17_1_Branch_1_Conv2d_0c_7x1_\n",
            "__________________________________________________________________________________________________\n",
            "Block17_1_Concatenate (Concaten (None, 8, 8, 256)    0           Block17_1_Branch_0_Conv2d_1x1_Act\n",
            "                                                                 Block17_1_Branch_1_Conv2d_0c_7x1_\n",
            "__________________________________________________________________________________________________\n",
            "Block17_1_Conv2d_1x1 (Conv2D)   (None, 8, 8, 896)    230272      Block17_1_Concatenate[0][0]      \n",
            "__________________________________________________________________________________________________\n",
            "Block17_1_ScaleSum (Lambda)     (None, 8, 8, 896)    0           Mixed_6a[0][0]                   \n",
            "                                                                 Block17_1_Conv2d_1x1[0][0]       \n",
            "__________________________________________________________________________________________________\n",
            "Block17_1_Activation (Activatio (None, 8, 8, 896)    0           Block17_1_ScaleSum[0][0]         \n",
            "__________________________________________________________________________________________________\n",
            "Block17_2_Branch_1_Conv2d_0a_1x (None, 8, 8, 128)    114688      Block17_1_Activation[0][0]       \n",
            "__________________________________________________________________________________________________\n",
            "Block17_2_Branch_1_Conv2d_0a_1x (None, 8, 8, 128)    384         Block17_2_Branch_1_Conv2d_0a_1x1[\n",
            "__________________________________________________________________________________________________\n",
            "Block17_2_Branch_1_Conv2d_0a_1x (None, 8, 8, 128)    0           Block17_2_Branch_1_Conv2d_0a_1x1_\n",
            "__________________________________________________________________________________________________\n",
            "Block17_2_Branch_1_Conv2d_0b_1x (None, 8, 8, 128)    114688      Block17_2_Branch_1_Conv2d_0a_1x1_\n",
            "__________________________________________________________________________________________________\n",
            "Block17_2_Branch_1_Conv2d_0b_1x (None, 8, 8, 128)    384         Block17_2_Branch_1_Conv2d_0b_1x7[\n",
            "__________________________________________________________________________________________________\n",
            "Block17_2_Branch_1_Conv2d_0b_1x (None, 8, 8, 128)    0           Block17_2_Branch_1_Conv2d_0b_1x7_\n",
            "__________________________________________________________________________________________________\n",
            "Block17_2_Branch_0_Conv2d_1x1 ( (None, 8, 8, 128)    114688      Block17_1_Activation[0][0]       \n",
            "__________________________________________________________________________________________________\n",
            "Block17_2_Branch_1_Conv2d_0c_7x (None, 8, 8, 128)    114688      Block17_2_Branch_1_Conv2d_0b_1x7_\n",
            "__________________________________________________________________________________________________\n",
            "Block17_2_Branch_0_Conv2d_1x1_B (None, 8, 8, 128)    384         Block17_2_Branch_0_Conv2d_1x1[0][\n",
            "__________________________________________________________________________________________________\n",
            "Block17_2_Branch_1_Conv2d_0c_7x (None, 8, 8, 128)    384         Block17_2_Branch_1_Conv2d_0c_7x1[\n",
            "__________________________________________________________________________________________________\n",
            "Block17_2_Branch_0_Conv2d_1x1_A (None, 8, 8, 128)    0           Block17_2_Branch_0_Conv2d_1x1_Bat\n",
            "__________________________________________________________________________________________________\n",
            "Block17_2_Branch_1_Conv2d_0c_7x (None, 8, 8, 128)    0           Block17_2_Branch_1_Conv2d_0c_7x1_\n",
            "__________________________________________________________________________________________________\n",
            "Block17_2_Concatenate (Concaten (None, 8, 8, 256)    0           Block17_2_Branch_0_Conv2d_1x1_Act\n",
            "                                                                 Block17_2_Branch_1_Conv2d_0c_7x1_\n",
            "__________________________________________________________________________________________________\n",
            "Block17_2_Conv2d_1x1 (Conv2D)   (None, 8, 8, 896)    230272      Block17_2_Concatenate[0][0]      \n",
            "__________________________________________________________________________________________________\n",
            "Block17_2_ScaleSum (Lambda)     (None, 8, 8, 896)    0           Block17_1_Activation[0][0]       \n",
            "                                                                 Block17_2_Conv2d_1x1[0][0]       \n",
            "__________________________________________________________________________________________________\n",
            "Block17_2_Activation (Activatio (None, 8, 8, 896)    0           Block17_2_ScaleSum[0][0]         \n",
            "__________________________________________________________________________________________________\n",
            "Block17_3_Branch_1_Conv2d_0a_1x (None, 8, 8, 128)    114688      Block17_2_Activation[0][0]       \n",
            "__________________________________________________________________________________________________\n",
            "Block17_3_Branch_1_Conv2d_0a_1x (None, 8, 8, 128)    384         Block17_3_Branch_1_Conv2d_0a_1x1[\n",
            "__________________________________________________________________________________________________\n",
            "Block17_3_Branch_1_Conv2d_0a_1x (None, 8, 8, 128)    0           Block17_3_Branch_1_Conv2d_0a_1x1_\n",
            "__________________________________________________________________________________________________\n",
            "Block17_3_Branch_1_Conv2d_0b_1x (None, 8, 8, 128)    114688      Block17_3_Branch_1_Conv2d_0a_1x1_\n",
            "__________________________________________________________________________________________________\n",
            "Block17_3_Branch_1_Conv2d_0b_1x (None, 8, 8, 128)    384         Block17_3_Branch_1_Conv2d_0b_1x7[\n",
            "__________________________________________________________________________________________________\n",
            "Block17_3_Branch_1_Conv2d_0b_1x (None, 8, 8, 128)    0           Block17_3_Branch_1_Conv2d_0b_1x7_\n",
            "__________________________________________________________________________________________________\n",
            "Block17_3_Branch_0_Conv2d_1x1 ( (None, 8, 8, 128)    114688      Block17_2_Activation[0][0]       \n",
            "__________________________________________________________________________________________________\n",
            "Block17_3_Branch_1_Conv2d_0c_7x (None, 8, 8, 128)    114688      Block17_3_Branch_1_Conv2d_0b_1x7_\n",
            "__________________________________________________________________________________________________\n",
            "Block17_3_Branch_0_Conv2d_1x1_B (None, 8, 8, 128)    384         Block17_3_Branch_0_Conv2d_1x1[0][\n",
            "__________________________________________________________________________________________________\n",
            "Block17_3_Branch_1_Conv2d_0c_7x (None, 8, 8, 128)    384         Block17_3_Branch_1_Conv2d_0c_7x1[\n",
            "__________________________________________________________________________________________________\n",
            "Block17_3_Branch_0_Conv2d_1x1_A (None, 8, 8, 128)    0           Block17_3_Branch_0_Conv2d_1x1_Bat\n",
            "__________________________________________________________________________________________________\n",
            "Block17_3_Branch_1_Conv2d_0c_7x (None, 8, 8, 128)    0           Block17_3_Branch_1_Conv2d_0c_7x1_\n",
            "__________________________________________________________________________________________________\n",
            "Block17_3_Concatenate (Concaten (None, 8, 8, 256)    0           Block17_3_Branch_0_Conv2d_1x1_Act\n",
            "                                                                 Block17_3_Branch_1_Conv2d_0c_7x1_\n",
            "__________________________________________________________________________________________________\n",
            "Block17_3_Conv2d_1x1 (Conv2D)   (None, 8, 8, 896)    230272      Block17_3_Concatenate[0][0]      \n",
            "__________________________________________________________________________________________________\n",
            "Block17_3_ScaleSum (Lambda)     (None, 8, 8, 896)    0           Block17_2_Activation[0][0]       \n",
            "                                                                 Block17_3_Conv2d_1x1[0][0]       \n",
            "__________________________________________________________________________________________________\n",
            "Block17_3_Activation (Activatio (None, 8, 8, 896)    0           Block17_3_ScaleSum[0][0]         \n",
            "__________________________________________________________________________________________________\n",
            "Block17_4_Branch_1_Conv2d_0a_1x (None, 8, 8, 128)    114688      Block17_3_Activation[0][0]       \n",
            "__________________________________________________________________________________________________\n",
            "Block17_4_Branch_1_Conv2d_0a_1x (None, 8, 8, 128)    384         Block17_4_Branch_1_Conv2d_0a_1x1[\n",
            "__________________________________________________________________________________________________\n",
            "Block17_4_Branch_1_Conv2d_0a_1x (None, 8, 8, 128)    0           Block17_4_Branch_1_Conv2d_0a_1x1_\n",
            "__________________________________________________________________________________________________\n",
            "Block17_4_Branch_1_Conv2d_0b_1x (None, 8, 8, 128)    114688      Block17_4_Branch_1_Conv2d_0a_1x1_\n",
            "__________________________________________________________________________________________________\n",
            "Block17_4_Branch_1_Conv2d_0b_1x (None, 8, 8, 128)    384         Block17_4_Branch_1_Conv2d_0b_1x7[\n",
            "__________________________________________________________________________________________________\n",
            "Block17_4_Branch_1_Conv2d_0b_1x (None, 8, 8, 128)    0           Block17_4_Branch_1_Conv2d_0b_1x7_\n",
            "__________________________________________________________________________________________________\n",
            "Block17_4_Branch_0_Conv2d_1x1 ( (None, 8, 8, 128)    114688      Block17_3_Activation[0][0]       \n",
            "__________________________________________________________________________________________________\n",
            "Block17_4_Branch_1_Conv2d_0c_7x (None, 8, 8, 128)    114688      Block17_4_Branch_1_Conv2d_0b_1x7_\n",
            "__________________________________________________________________________________________________\n",
            "Block17_4_Branch_0_Conv2d_1x1_B (None, 8, 8, 128)    384         Block17_4_Branch_0_Conv2d_1x1[0][\n",
            "__________________________________________________________________________________________________\n",
            "Block17_4_Branch_1_Conv2d_0c_7x (None, 8, 8, 128)    384         Block17_4_Branch_1_Conv2d_0c_7x1[\n",
            "__________________________________________________________________________________________________\n",
            "Block17_4_Branch_0_Conv2d_1x1_A (None, 8, 8, 128)    0           Block17_4_Branch_0_Conv2d_1x1_Bat\n",
            "__________________________________________________________________________________________________\n",
            "Block17_4_Branch_1_Conv2d_0c_7x (None, 8, 8, 128)    0           Block17_4_Branch_1_Conv2d_0c_7x1_\n",
            "__________________________________________________________________________________________________\n",
            "Block17_4_Concatenate (Concaten (None, 8, 8, 256)    0           Block17_4_Branch_0_Conv2d_1x1_Act\n",
            "                                                                 Block17_4_Branch_1_Conv2d_0c_7x1_\n",
            "__________________________________________________________________________________________________\n",
            "Block17_4_Conv2d_1x1 (Conv2D)   (None, 8, 8, 896)    230272      Block17_4_Concatenate[0][0]      \n",
            "__________________________________________________________________________________________________\n",
            "Block17_4_ScaleSum (Lambda)     (None, 8, 8, 896)    0           Block17_3_Activation[0][0]       \n",
            "                                                                 Block17_4_Conv2d_1x1[0][0]       \n",
            "__________________________________________________________________________________________________\n",
            "Block17_4_Activation (Activatio (None, 8, 8, 896)    0           Block17_4_ScaleSum[0][0]         \n",
            "__________________________________________________________________________________________________\n",
            "Block17_5_Branch_1_Conv2d_0a_1x (None, 8, 8, 128)    114688      Block17_4_Activation[0][0]       \n",
            "__________________________________________________________________________________________________\n",
            "Block17_5_Branch_1_Conv2d_0a_1x (None, 8, 8, 128)    384         Block17_5_Branch_1_Conv2d_0a_1x1[\n",
            "__________________________________________________________________________________________________\n",
            "Block17_5_Branch_1_Conv2d_0a_1x (None, 8, 8, 128)    0           Block17_5_Branch_1_Conv2d_0a_1x1_\n",
            "__________________________________________________________________________________________________\n",
            "Block17_5_Branch_1_Conv2d_0b_1x (None, 8, 8, 128)    114688      Block17_5_Branch_1_Conv2d_0a_1x1_\n",
            "__________________________________________________________________________________________________\n",
            "Block17_5_Branch_1_Conv2d_0b_1x (None, 8, 8, 128)    384         Block17_5_Branch_1_Conv2d_0b_1x7[\n",
            "__________________________________________________________________________________________________\n",
            "Block17_5_Branch_1_Conv2d_0b_1x (None, 8, 8, 128)    0           Block17_5_Branch_1_Conv2d_0b_1x7_\n",
            "__________________________________________________________________________________________________\n",
            "Block17_5_Branch_0_Conv2d_1x1 ( (None, 8, 8, 128)    114688      Block17_4_Activation[0][0]       \n",
            "__________________________________________________________________________________________________\n",
            "Block17_5_Branch_1_Conv2d_0c_7x (None, 8, 8, 128)    114688      Block17_5_Branch_1_Conv2d_0b_1x7_\n",
            "__________________________________________________________________________________________________\n",
            "Block17_5_Branch_0_Conv2d_1x1_B (None, 8, 8, 128)    384         Block17_5_Branch_0_Conv2d_1x1[0][\n",
            "__________________________________________________________________________________________________\n",
            "Block17_5_Branch_1_Conv2d_0c_7x (None, 8, 8, 128)    384         Block17_5_Branch_1_Conv2d_0c_7x1[\n",
            "__________________________________________________________________________________________________\n",
            "Block17_5_Branch_0_Conv2d_1x1_A (None, 8, 8, 128)    0           Block17_5_Branch_0_Conv2d_1x1_Bat\n",
            "__________________________________________________________________________________________________\n",
            "Block17_5_Branch_1_Conv2d_0c_7x (None, 8, 8, 128)    0           Block17_5_Branch_1_Conv2d_0c_7x1_\n",
            "__________________________________________________________________________________________________\n",
            "Block17_5_Concatenate (Concaten (None, 8, 8, 256)    0           Block17_5_Branch_0_Conv2d_1x1_Act\n",
            "                                                                 Block17_5_Branch_1_Conv2d_0c_7x1_\n",
            "__________________________________________________________________________________________________\n",
            "Block17_5_Conv2d_1x1 (Conv2D)   (None, 8, 8, 896)    230272      Block17_5_Concatenate[0][0]      \n",
            "__________________________________________________________________________________________________\n",
            "Block17_5_ScaleSum (Lambda)     (None, 8, 8, 896)    0           Block17_4_Activation[0][0]       \n",
            "                                                                 Block17_5_Conv2d_1x1[0][0]       \n",
            "__________________________________________________________________________________________________\n",
            "Block17_5_Activation (Activatio (None, 8, 8, 896)    0           Block17_5_ScaleSum[0][0]         \n",
            "__________________________________________________________________________________________________\n",
            "Block17_6_Branch_1_Conv2d_0a_1x (None, 8, 8, 128)    114688      Block17_5_Activation[0][0]       \n",
            "__________________________________________________________________________________________________\n",
            "Block17_6_Branch_1_Conv2d_0a_1x (None, 8, 8, 128)    384         Block17_6_Branch_1_Conv2d_0a_1x1[\n",
            "__________________________________________________________________________________________________\n",
            "Block17_6_Branch_1_Conv2d_0a_1x (None, 8, 8, 128)    0           Block17_6_Branch_1_Conv2d_0a_1x1_\n",
            "__________________________________________________________________________________________________\n",
            "Block17_6_Branch_1_Conv2d_0b_1x (None, 8, 8, 128)    114688      Block17_6_Branch_1_Conv2d_0a_1x1_\n",
            "__________________________________________________________________________________________________\n",
            "Block17_6_Branch_1_Conv2d_0b_1x (None, 8, 8, 128)    384         Block17_6_Branch_1_Conv2d_0b_1x7[\n",
            "__________________________________________________________________________________________________\n",
            "Block17_6_Branch_1_Conv2d_0b_1x (None, 8, 8, 128)    0           Block17_6_Branch_1_Conv2d_0b_1x7_\n",
            "__________________________________________________________________________________________________\n",
            "Block17_6_Branch_0_Conv2d_1x1 ( (None, 8, 8, 128)    114688      Block17_5_Activation[0][0]       \n",
            "__________________________________________________________________________________________________\n",
            "Block17_6_Branch_1_Conv2d_0c_7x (None, 8, 8, 128)    114688      Block17_6_Branch_1_Conv2d_0b_1x7_\n",
            "__________________________________________________________________________________________________\n",
            "Block17_6_Branch_0_Conv2d_1x1_B (None, 8, 8, 128)    384         Block17_6_Branch_0_Conv2d_1x1[0][\n",
            "__________________________________________________________________________________________________\n",
            "Block17_6_Branch_1_Conv2d_0c_7x (None, 8, 8, 128)    384         Block17_6_Branch_1_Conv2d_0c_7x1[\n",
            "__________________________________________________________________________________________________\n",
            "Block17_6_Branch_0_Conv2d_1x1_A (None, 8, 8, 128)    0           Block17_6_Branch_0_Conv2d_1x1_Bat\n",
            "__________________________________________________________________________________________________\n",
            "Block17_6_Branch_1_Conv2d_0c_7x (None, 8, 8, 128)    0           Block17_6_Branch_1_Conv2d_0c_7x1_\n",
            "__________________________________________________________________________________________________\n",
            "Block17_6_Concatenate (Concaten (None, 8, 8, 256)    0           Block17_6_Branch_0_Conv2d_1x1_Act\n",
            "                                                                 Block17_6_Branch_1_Conv2d_0c_7x1_\n",
            "__________________________________________________________________________________________________\n",
            "Block17_6_Conv2d_1x1 (Conv2D)   (None, 8, 8, 896)    230272      Block17_6_Concatenate[0][0]      \n",
            "__________________________________________________________________________________________________\n",
            "Block17_6_ScaleSum (Lambda)     (None, 8, 8, 896)    0           Block17_5_Activation[0][0]       \n",
            "                                                                 Block17_6_Conv2d_1x1[0][0]       \n",
            "__________________________________________________________________________________________________\n",
            "Block17_6_Activation (Activatio (None, 8, 8, 896)    0           Block17_6_ScaleSum[0][0]         \n",
            "__________________________________________________________________________________________________\n",
            "Block17_7_Branch_1_Conv2d_0a_1x (None, 8, 8, 128)    114688      Block17_6_Activation[0][0]       \n",
            "__________________________________________________________________________________________________\n",
            "Block17_7_Branch_1_Conv2d_0a_1x (None, 8, 8, 128)    384         Block17_7_Branch_1_Conv2d_0a_1x1[\n",
            "__________________________________________________________________________________________________\n",
            "Block17_7_Branch_1_Conv2d_0a_1x (None, 8, 8, 128)    0           Block17_7_Branch_1_Conv2d_0a_1x1_\n",
            "__________________________________________________________________________________________________\n",
            "Block17_7_Branch_1_Conv2d_0b_1x (None, 8, 8, 128)    114688      Block17_7_Branch_1_Conv2d_0a_1x1_\n",
            "__________________________________________________________________________________________________\n",
            "Block17_7_Branch_1_Conv2d_0b_1x (None, 8, 8, 128)    384         Block17_7_Branch_1_Conv2d_0b_1x7[\n",
            "__________________________________________________________________________________________________\n",
            "Block17_7_Branch_1_Conv2d_0b_1x (None, 8, 8, 128)    0           Block17_7_Branch_1_Conv2d_0b_1x7_\n",
            "__________________________________________________________________________________________________\n",
            "Block17_7_Branch_0_Conv2d_1x1 ( (None, 8, 8, 128)    114688      Block17_6_Activation[0][0]       \n",
            "__________________________________________________________________________________________________\n",
            "Block17_7_Branch_1_Conv2d_0c_7x (None, 8, 8, 128)    114688      Block17_7_Branch_1_Conv2d_0b_1x7_\n",
            "__________________________________________________________________________________________________\n",
            "Block17_7_Branch_0_Conv2d_1x1_B (None, 8, 8, 128)    384         Block17_7_Branch_0_Conv2d_1x1[0][\n",
            "__________________________________________________________________________________________________\n",
            "Block17_7_Branch_1_Conv2d_0c_7x (None, 8, 8, 128)    384         Block17_7_Branch_1_Conv2d_0c_7x1[\n",
            "__________________________________________________________________________________________________\n",
            "Block17_7_Branch_0_Conv2d_1x1_A (None, 8, 8, 128)    0           Block17_7_Branch_0_Conv2d_1x1_Bat\n",
            "__________________________________________________________________________________________________\n",
            "Block17_7_Branch_1_Conv2d_0c_7x (None, 8, 8, 128)    0           Block17_7_Branch_1_Conv2d_0c_7x1_\n",
            "__________________________________________________________________________________________________\n",
            "Block17_7_Concatenate (Concaten (None, 8, 8, 256)    0           Block17_7_Branch_0_Conv2d_1x1_Act\n",
            "                                                                 Block17_7_Branch_1_Conv2d_0c_7x1_\n",
            "__________________________________________________________________________________________________\n",
            "Block17_7_Conv2d_1x1 (Conv2D)   (None, 8, 8, 896)    230272      Block17_7_Concatenate[0][0]      \n",
            "__________________________________________________________________________________________________\n",
            "Block17_7_ScaleSum (Lambda)     (None, 8, 8, 896)    0           Block17_6_Activation[0][0]       \n",
            "                                                                 Block17_7_Conv2d_1x1[0][0]       \n",
            "__________________________________________________________________________________________________\n",
            "Block17_7_Activation (Activatio (None, 8, 8, 896)    0           Block17_7_ScaleSum[0][0]         \n",
            "__________________________________________________________________________________________________\n",
            "Block17_8_Branch_1_Conv2d_0a_1x (None, 8, 8, 128)    114688      Block17_7_Activation[0][0]       \n",
            "__________________________________________________________________________________________________\n",
            "Block17_8_Branch_1_Conv2d_0a_1x (None, 8, 8, 128)    384         Block17_8_Branch_1_Conv2d_0a_1x1[\n",
            "__________________________________________________________________________________________________\n",
            "Block17_8_Branch_1_Conv2d_0a_1x (None, 8, 8, 128)    0           Block17_8_Branch_1_Conv2d_0a_1x1_\n",
            "__________________________________________________________________________________________________\n",
            "Block17_8_Branch_1_Conv2d_0b_1x (None, 8, 8, 128)    114688      Block17_8_Branch_1_Conv2d_0a_1x1_\n",
            "__________________________________________________________________________________________________\n",
            "Block17_8_Branch_1_Conv2d_0b_1x (None, 8, 8, 128)    384         Block17_8_Branch_1_Conv2d_0b_1x7[\n",
            "__________________________________________________________________________________________________\n",
            "Block17_8_Branch_1_Conv2d_0b_1x (None, 8, 8, 128)    0           Block17_8_Branch_1_Conv2d_0b_1x7_\n",
            "__________________________________________________________________________________________________\n",
            "Block17_8_Branch_0_Conv2d_1x1 ( (None, 8, 8, 128)    114688      Block17_7_Activation[0][0]       \n",
            "__________________________________________________________________________________________________\n",
            "Block17_8_Branch_1_Conv2d_0c_7x (None, 8, 8, 128)    114688      Block17_8_Branch_1_Conv2d_0b_1x7_\n",
            "__________________________________________________________________________________________________\n",
            "Block17_8_Branch_0_Conv2d_1x1_B (None, 8, 8, 128)    384         Block17_8_Branch_0_Conv2d_1x1[0][\n",
            "__________________________________________________________________________________________________\n",
            "Block17_8_Branch_1_Conv2d_0c_7x (None, 8, 8, 128)    384         Block17_8_Branch_1_Conv2d_0c_7x1[\n",
            "__________________________________________________________________________________________________\n",
            "Block17_8_Branch_0_Conv2d_1x1_A (None, 8, 8, 128)    0           Block17_8_Branch_0_Conv2d_1x1_Bat\n",
            "__________________________________________________________________________________________________\n",
            "Block17_8_Branch_1_Conv2d_0c_7x (None, 8, 8, 128)    0           Block17_8_Branch_1_Conv2d_0c_7x1_\n",
            "__________________________________________________________________________________________________\n",
            "Block17_8_Concatenate (Concaten (None, 8, 8, 256)    0           Block17_8_Branch_0_Conv2d_1x1_Act\n",
            "                                                                 Block17_8_Branch_1_Conv2d_0c_7x1_\n",
            "__________________________________________________________________________________________________\n",
            "Block17_8_Conv2d_1x1 (Conv2D)   (None, 8, 8, 896)    230272      Block17_8_Concatenate[0][0]      \n",
            "__________________________________________________________________________________________________\n",
            "Block17_8_ScaleSum (Lambda)     (None, 8, 8, 896)    0           Block17_7_Activation[0][0]       \n",
            "                                                                 Block17_8_Conv2d_1x1[0][0]       \n",
            "__________________________________________________________________________________________________\n",
            "Block17_8_Activation (Activatio (None, 8, 8, 896)    0           Block17_8_ScaleSum[0][0]         \n",
            "__________________________________________________________________________________________________\n",
            "Block17_9_Branch_1_Conv2d_0a_1x (None, 8, 8, 128)    114688      Block17_8_Activation[0][0]       \n",
            "__________________________________________________________________________________________________\n",
            "Block17_9_Branch_1_Conv2d_0a_1x (None, 8, 8, 128)    384         Block17_9_Branch_1_Conv2d_0a_1x1[\n",
            "__________________________________________________________________________________________________\n",
            "Block17_9_Branch_1_Conv2d_0a_1x (None, 8, 8, 128)    0           Block17_9_Branch_1_Conv2d_0a_1x1_\n",
            "__________________________________________________________________________________________________\n",
            "Block17_9_Branch_1_Conv2d_0b_1x (None, 8, 8, 128)    114688      Block17_9_Branch_1_Conv2d_0a_1x1_\n",
            "__________________________________________________________________________________________________\n",
            "Block17_9_Branch_1_Conv2d_0b_1x (None, 8, 8, 128)    384         Block17_9_Branch_1_Conv2d_0b_1x7[\n",
            "__________________________________________________________________________________________________\n",
            "Block17_9_Branch_1_Conv2d_0b_1x (None, 8, 8, 128)    0           Block17_9_Branch_1_Conv2d_0b_1x7_\n",
            "__________________________________________________________________________________________________\n",
            "Block17_9_Branch_0_Conv2d_1x1 ( (None, 8, 8, 128)    114688      Block17_8_Activation[0][0]       \n",
            "__________________________________________________________________________________________________\n",
            "Block17_9_Branch_1_Conv2d_0c_7x (None, 8, 8, 128)    114688      Block17_9_Branch_1_Conv2d_0b_1x7_\n",
            "__________________________________________________________________________________________________\n",
            "Block17_9_Branch_0_Conv2d_1x1_B (None, 8, 8, 128)    384         Block17_9_Branch_0_Conv2d_1x1[0][\n",
            "__________________________________________________________________________________________________\n",
            "Block17_9_Branch_1_Conv2d_0c_7x (None, 8, 8, 128)    384         Block17_9_Branch_1_Conv2d_0c_7x1[\n",
            "__________________________________________________________________________________________________\n",
            "Block17_9_Branch_0_Conv2d_1x1_A (None, 8, 8, 128)    0           Block17_9_Branch_0_Conv2d_1x1_Bat\n",
            "__________________________________________________________________________________________________\n",
            "Block17_9_Branch_1_Conv2d_0c_7x (None, 8, 8, 128)    0           Block17_9_Branch_1_Conv2d_0c_7x1_\n",
            "__________________________________________________________________________________________________\n",
            "Block17_9_Concatenate (Concaten (None, 8, 8, 256)    0           Block17_9_Branch_0_Conv2d_1x1_Act\n",
            "                                                                 Block17_9_Branch_1_Conv2d_0c_7x1_\n",
            "__________________________________________________________________________________________________\n",
            "Block17_9_Conv2d_1x1 (Conv2D)   (None, 8, 8, 896)    230272      Block17_9_Concatenate[0][0]      \n",
            "__________________________________________________________________________________________________\n",
            "Block17_9_ScaleSum (Lambda)     (None, 8, 8, 896)    0           Block17_8_Activation[0][0]       \n",
            "                                                                 Block17_9_Conv2d_1x1[0][0]       \n",
            "__________________________________________________________________________________________________\n",
            "Block17_9_Activation (Activatio (None, 8, 8, 896)    0           Block17_9_ScaleSum[0][0]         \n",
            "__________________________________________________________________________________________________\n",
            "Block17_10_Branch_1_Conv2d_0a_1 (None, 8, 8, 128)    114688      Block17_9_Activation[0][0]       \n",
            "__________________________________________________________________________________________________\n",
            "Block17_10_Branch_1_Conv2d_0a_1 (None, 8, 8, 128)    384         Block17_10_Branch_1_Conv2d_0a_1x1\n",
            "__________________________________________________________________________________________________\n",
            "Block17_10_Branch_1_Conv2d_0a_1 (None, 8, 8, 128)    0           Block17_10_Branch_1_Conv2d_0a_1x1\n",
            "__________________________________________________________________________________________________\n",
            "Block17_10_Branch_1_Conv2d_0b_1 (None, 8, 8, 128)    114688      Block17_10_Branch_1_Conv2d_0a_1x1\n",
            "__________________________________________________________________________________________________\n",
            "Block17_10_Branch_1_Conv2d_0b_1 (None, 8, 8, 128)    384         Block17_10_Branch_1_Conv2d_0b_1x7\n",
            "__________________________________________________________________________________________________\n",
            "Block17_10_Branch_1_Conv2d_0b_1 (None, 8, 8, 128)    0           Block17_10_Branch_1_Conv2d_0b_1x7\n",
            "__________________________________________________________________________________________________\n",
            "Block17_10_Branch_0_Conv2d_1x1  (None, 8, 8, 128)    114688      Block17_9_Activation[0][0]       \n",
            "__________________________________________________________________________________________________\n",
            "Block17_10_Branch_1_Conv2d_0c_7 (None, 8, 8, 128)    114688      Block17_10_Branch_1_Conv2d_0b_1x7\n",
            "__________________________________________________________________________________________________\n",
            "Block17_10_Branch_0_Conv2d_1x1_ (None, 8, 8, 128)    384         Block17_10_Branch_0_Conv2d_1x1[0]\n",
            "__________________________________________________________________________________________________\n",
            "Block17_10_Branch_1_Conv2d_0c_7 (None, 8, 8, 128)    384         Block17_10_Branch_1_Conv2d_0c_7x1\n",
            "__________________________________________________________________________________________________\n",
            "Block17_10_Branch_0_Conv2d_1x1_ (None, 8, 8, 128)    0           Block17_10_Branch_0_Conv2d_1x1_Ba\n",
            "__________________________________________________________________________________________________\n",
            "Block17_10_Branch_1_Conv2d_0c_7 (None, 8, 8, 128)    0           Block17_10_Branch_1_Conv2d_0c_7x1\n",
            "__________________________________________________________________________________________________\n",
            "Block17_10_Concatenate (Concate (None, 8, 8, 256)    0           Block17_10_Branch_0_Conv2d_1x1_Ac\n",
            "                                                                 Block17_10_Branch_1_Conv2d_0c_7x1\n",
            "__________________________________________________________________________________________________\n",
            "Block17_10_Conv2d_1x1 (Conv2D)  (None, 8, 8, 896)    230272      Block17_10_Concatenate[0][0]     \n",
            "__________________________________________________________________________________________________\n",
            "Block17_10_ScaleSum (Lambda)    (None, 8, 8, 896)    0           Block17_9_Activation[0][0]       \n",
            "                                                                 Block17_10_Conv2d_1x1[0][0]      \n",
            "__________________________________________________________________________________________________\n",
            "Block17_10_Activation (Activati (None, 8, 8, 896)    0           Block17_10_ScaleSum[0][0]        \n",
            "__________________________________________________________________________________________________\n",
            "Mixed_7a_Branch_2_Conv2d_0a_1x1 (None, 8, 8, 256)    229376      Block17_10_Activation[0][0]      \n",
            "__________________________________________________________________________________________________\n",
            "Mixed_7a_Branch_2_Conv2d_0a_1x1 (None, 8, 8, 256)    768         Mixed_7a_Branch_2_Conv2d_0a_1x1[0\n",
            "__________________________________________________________________________________________________\n",
            "Mixed_7a_Branch_2_Conv2d_0a_1x1 (None, 8, 8, 256)    0           Mixed_7a_Branch_2_Conv2d_0a_1x1_B\n",
            "__________________________________________________________________________________________________\n",
            "Mixed_7a_Branch_0_Conv2d_0a_1x1 (None, 8, 8, 256)    229376      Block17_10_Activation[0][0]      \n",
            "__________________________________________________________________________________________________\n",
            "Mixed_7a_Branch_1_Conv2d_0a_1x1 (None, 8, 8, 256)    229376      Block17_10_Activation[0][0]      \n",
            "__________________________________________________________________________________________________\n",
            "Mixed_7a_Branch_2_Conv2d_0b_3x3 (None, 8, 8, 256)    589824      Mixed_7a_Branch_2_Conv2d_0a_1x1_A\n",
            "__________________________________________________________________________________________________\n",
            "Mixed_7a_Branch_0_Conv2d_0a_1x1 (None, 8, 8, 256)    768         Mixed_7a_Branch_0_Conv2d_0a_1x1[0\n",
            "__________________________________________________________________________________________________\n",
            "Mixed_7a_Branch_1_Conv2d_0a_1x1 (None, 8, 8, 256)    768         Mixed_7a_Branch_1_Conv2d_0a_1x1[0\n",
            "__________________________________________________________________________________________________\n",
            "Mixed_7a_Branch_2_Conv2d_0b_3x3 (None, 8, 8, 256)    768         Mixed_7a_Branch_2_Conv2d_0b_3x3[0\n",
            "__________________________________________________________________________________________________\n",
            "Mixed_7a_Branch_0_Conv2d_0a_1x1 (None, 8, 8, 256)    0           Mixed_7a_Branch_0_Conv2d_0a_1x1_B\n",
            "__________________________________________________________________________________________________\n",
            "Mixed_7a_Branch_1_Conv2d_0a_1x1 (None, 8, 8, 256)    0           Mixed_7a_Branch_1_Conv2d_0a_1x1_B\n",
            "__________________________________________________________________________________________________\n",
            "Mixed_7a_Branch_2_Conv2d_0b_3x3 (None, 8, 8, 256)    0           Mixed_7a_Branch_2_Conv2d_0b_3x3_B\n",
            "__________________________________________________________________________________________________\n",
            "Mixed_7a_Branch_0_Conv2d_1a_3x3 (None, 3, 3, 384)    884736      Mixed_7a_Branch_0_Conv2d_0a_1x1_A\n",
            "__________________________________________________________________________________________________\n",
            "Mixed_7a_Branch_1_Conv2d_1a_3x3 (None, 3, 3, 256)    589824      Mixed_7a_Branch_1_Conv2d_0a_1x1_A\n",
            "__________________________________________________________________________________________________\n",
            "Mixed_7a_Branch_2_Conv2d_1a_3x3 (None, 3, 3, 256)    589824      Mixed_7a_Branch_2_Conv2d_0b_3x3_A\n",
            "__________________________________________________________________________________________________\n",
            "Mixed_7a_Branch_0_Conv2d_1a_3x3 (None, 3, 3, 384)    1152        Mixed_7a_Branch_0_Conv2d_1a_3x3[0\n",
            "__________________________________________________________________________________________________\n",
            "Mixed_7a_Branch_1_Conv2d_1a_3x3 (None, 3, 3, 256)    768         Mixed_7a_Branch_1_Conv2d_1a_3x3[0\n",
            "__________________________________________________________________________________________________\n",
            "Mixed_7a_Branch_2_Conv2d_1a_3x3 (None, 3, 3, 256)    768         Mixed_7a_Branch_2_Conv2d_1a_3x3[0\n",
            "__________________________________________________________________________________________________\n",
            "Mixed_7a_Branch_0_Conv2d_1a_3x3 (None, 3, 3, 384)    0           Mixed_7a_Branch_0_Conv2d_1a_3x3_B\n",
            "__________________________________________________________________________________________________\n",
            "Mixed_7a_Branch_1_Conv2d_1a_3x3 (None, 3, 3, 256)    0           Mixed_7a_Branch_1_Conv2d_1a_3x3_B\n",
            "__________________________________________________________________________________________________\n",
            "Mixed_7a_Branch_2_Conv2d_1a_3x3 (None, 3, 3, 256)    0           Mixed_7a_Branch_2_Conv2d_1a_3x3_B\n",
            "__________________________________________________________________________________________________\n",
            "Mixed_7a_Branch_3_MaxPool_1a_3x (None, 3, 3, 896)    0           Block17_10_Activation[0][0]      \n",
            "__________________________________________________________________________________________________\n",
            "Mixed_7a (Concatenate)          (None, 3, 3, 1792)   0           Mixed_7a_Branch_0_Conv2d_1a_3x3_A\n",
            "                                                                 Mixed_7a_Branch_1_Conv2d_1a_3x3_A\n",
            "                                                                 Mixed_7a_Branch_2_Conv2d_1a_3x3_A\n",
            "                                                                 Mixed_7a_Branch_3_MaxPool_1a_3x3[\n",
            "__________________________________________________________________________________________________\n",
            "Block8_1_Branch_1_Conv2d_0a_1x1 (None, 3, 3, 192)    344064      Mixed_7a[0][0]                   \n",
            "__________________________________________________________________________________________________\n",
            "Block8_1_Branch_1_Conv2d_0a_1x1 (None, 3, 3, 192)    576         Block8_1_Branch_1_Conv2d_0a_1x1[0\n",
            "__________________________________________________________________________________________________\n",
            "Block8_1_Branch_1_Conv2d_0a_1x1 (None, 3, 3, 192)    0           Block8_1_Branch_1_Conv2d_0a_1x1_B\n",
            "__________________________________________________________________________________________________\n",
            "Block8_1_Branch_1_Conv2d_0b_1x3 (None, 3, 3, 192)    110592      Block8_1_Branch_1_Conv2d_0a_1x1_A\n",
            "__________________________________________________________________________________________________\n",
            "Block8_1_Branch_1_Conv2d_0b_1x3 (None, 3, 3, 192)    576         Block8_1_Branch_1_Conv2d_0b_1x3[0\n",
            "__________________________________________________________________________________________________\n",
            "Block8_1_Branch_1_Conv2d_0b_1x3 (None, 3, 3, 192)    0           Block8_1_Branch_1_Conv2d_0b_1x3_B\n",
            "__________________________________________________________________________________________________\n",
            "Block8_1_Branch_0_Conv2d_1x1 (C (None, 3, 3, 192)    344064      Mixed_7a[0][0]                   \n",
            "__________________________________________________________________________________________________\n",
            "Block8_1_Branch_1_Conv2d_0c_3x1 (None, 3, 3, 192)    110592      Block8_1_Branch_1_Conv2d_0b_1x3_A\n",
            "__________________________________________________________________________________________________\n",
            "Block8_1_Branch_0_Conv2d_1x1_Ba (None, 3, 3, 192)    576         Block8_1_Branch_0_Conv2d_1x1[0][0\n",
            "__________________________________________________________________________________________________\n",
            "Block8_1_Branch_1_Conv2d_0c_3x1 (None, 3, 3, 192)    576         Block8_1_Branch_1_Conv2d_0c_3x1[0\n",
            "__________________________________________________________________________________________________\n",
            "Block8_1_Branch_0_Conv2d_1x1_Ac (None, 3, 3, 192)    0           Block8_1_Branch_0_Conv2d_1x1_Batc\n",
            "__________________________________________________________________________________________________\n",
            "Block8_1_Branch_1_Conv2d_0c_3x1 (None, 3, 3, 192)    0           Block8_1_Branch_1_Conv2d_0c_3x1_B\n",
            "__________________________________________________________________________________________________\n",
            "Block8_1_Concatenate (Concatena (None, 3, 3, 384)    0           Block8_1_Branch_0_Conv2d_1x1_Acti\n",
            "                                                                 Block8_1_Branch_1_Conv2d_0c_3x1_A\n",
            "__________________________________________________________________________________________________\n",
            "Block8_1_Conv2d_1x1 (Conv2D)    (None, 3, 3, 1792)   689920      Block8_1_Concatenate[0][0]       \n",
            "__________________________________________________________________________________________________\n",
            "Block8_1_ScaleSum (Lambda)      (None, 3, 3, 1792)   0           Mixed_7a[0][0]                   \n",
            "                                                                 Block8_1_Conv2d_1x1[0][0]        \n",
            "__________________________________________________________________________________________________\n",
            "Block8_1_Activation (Activation (None, 3, 3, 1792)   0           Block8_1_ScaleSum[0][0]          \n",
            "__________________________________________________________________________________________________\n",
            "Block8_2_Branch_1_Conv2d_0a_1x1 (None, 3, 3, 192)    344064      Block8_1_Activation[0][0]        \n",
            "__________________________________________________________________________________________________\n",
            "Block8_2_Branch_1_Conv2d_0a_1x1 (None, 3, 3, 192)    576         Block8_2_Branch_1_Conv2d_0a_1x1[0\n",
            "__________________________________________________________________________________________________\n",
            "Block8_2_Branch_1_Conv2d_0a_1x1 (None, 3, 3, 192)    0           Block8_2_Branch_1_Conv2d_0a_1x1_B\n",
            "__________________________________________________________________________________________________\n",
            "Block8_2_Branch_1_Conv2d_0b_1x3 (None, 3, 3, 192)    110592      Block8_2_Branch_1_Conv2d_0a_1x1_A\n",
            "__________________________________________________________________________________________________\n",
            "Block8_2_Branch_1_Conv2d_0b_1x3 (None, 3, 3, 192)    576         Block8_2_Branch_1_Conv2d_0b_1x3[0\n",
            "__________________________________________________________________________________________________\n",
            "Block8_2_Branch_1_Conv2d_0b_1x3 (None, 3, 3, 192)    0           Block8_2_Branch_1_Conv2d_0b_1x3_B\n",
            "__________________________________________________________________________________________________\n",
            "Block8_2_Branch_0_Conv2d_1x1 (C (None, 3, 3, 192)    344064      Block8_1_Activation[0][0]        \n",
            "__________________________________________________________________________________________________\n",
            "Block8_2_Branch_1_Conv2d_0c_3x1 (None, 3, 3, 192)    110592      Block8_2_Branch_1_Conv2d_0b_1x3_A\n",
            "__________________________________________________________________________________________________\n",
            "Block8_2_Branch_0_Conv2d_1x1_Ba (None, 3, 3, 192)    576         Block8_2_Branch_0_Conv2d_1x1[0][0\n",
            "__________________________________________________________________________________________________\n",
            "Block8_2_Branch_1_Conv2d_0c_3x1 (None, 3, 3, 192)    576         Block8_2_Branch_1_Conv2d_0c_3x1[0\n",
            "__________________________________________________________________________________________________\n",
            "Block8_2_Branch_0_Conv2d_1x1_Ac (None, 3, 3, 192)    0           Block8_2_Branch_0_Conv2d_1x1_Batc\n",
            "__________________________________________________________________________________________________\n",
            "Block8_2_Branch_1_Conv2d_0c_3x1 (None, 3, 3, 192)    0           Block8_2_Branch_1_Conv2d_0c_3x1_B\n",
            "__________________________________________________________________________________________________\n",
            "Block8_2_Concatenate (Concatena (None, 3, 3, 384)    0           Block8_2_Branch_0_Conv2d_1x1_Acti\n",
            "                                                                 Block8_2_Branch_1_Conv2d_0c_3x1_A\n",
            "__________________________________________________________________________________________________\n",
            "Block8_2_Conv2d_1x1 (Conv2D)    (None, 3, 3, 1792)   689920      Block8_2_Concatenate[0][0]       \n",
            "__________________________________________________________________________________________________\n",
            "Block8_2_ScaleSum (Lambda)      (None, 3, 3, 1792)   0           Block8_1_Activation[0][0]        \n",
            "                                                                 Block8_2_Conv2d_1x1[0][0]        \n",
            "__________________________________________________________________________________________________\n",
            "Block8_2_Activation (Activation (None, 3, 3, 1792)   0           Block8_2_ScaleSum[0][0]          \n",
            "__________________________________________________________________________________________________\n",
            "Block8_3_Branch_1_Conv2d_0a_1x1 (None, 3, 3, 192)    344064      Block8_2_Activation[0][0]        \n",
            "__________________________________________________________________________________________________\n",
            "Block8_3_Branch_1_Conv2d_0a_1x1 (None, 3, 3, 192)    576         Block8_3_Branch_1_Conv2d_0a_1x1[0\n",
            "__________________________________________________________________________________________________\n",
            "Block8_3_Branch_1_Conv2d_0a_1x1 (None, 3, 3, 192)    0           Block8_3_Branch_1_Conv2d_0a_1x1_B\n",
            "__________________________________________________________________________________________________\n",
            "Block8_3_Branch_1_Conv2d_0b_1x3 (None, 3, 3, 192)    110592      Block8_3_Branch_1_Conv2d_0a_1x1_A\n",
            "__________________________________________________________________________________________________\n",
            "Block8_3_Branch_1_Conv2d_0b_1x3 (None, 3, 3, 192)    576         Block8_3_Branch_1_Conv2d_0b_1x3[0\n",
            "__________________________________________________________________________________________________\n",
            "Block8_3_Branch_1_Conv2d_0b_1x3 (None, 3, 3, 192)    0           Block8_3_Branch_1_Conv2d_0b_1x3_B\n",
            "__________________________________________________________________________________________________\n",
            "Block8_3_Branch_0_Conv2d_1x1 (C (None, 3, 3, 192)    344064      Block8_2_Activation[0][0]        \n",
            "__________________________________________________________________________________________________\n",
            "Block8_3_Branch_1_Conv2d_0c_3x1 (None, 3, 3, 192)    110592      Block8_3_Branch_1_Conv2d_0b_1x3_A\n",
            "__________________________________________________________________________________________________\n",
            "Block8_3_Branch_0_Conv2d_1x1_Ba (None, 3, 3, 192)    576         Block8_3_Branch_0_Conv2d_1x1[0][0\n",
            "__________________________________________________________________________________________________\n",
            "Block8_3_Branch_1_Conv2d_0c_3x1 (None, 3, 3, 192)    576         Block8_3_Branch_1_Conv2d_0c_3x1[0\n",
            "__________________________________________________________________________________________________\n",
            "Block8_3_Branch_0_Conv2d_1x1_Ac (None, 3, 3, 192)    0           Block8_3_Branch_0_Conv2d_1x1_Batc\n",
            "__________________________________________________________________________________________________\n",
            "Block8_3_Branch_1_Conv2d_0c_3x1 (None, 3, 3, 192)    0           Block8_3_Branch_1_Conv2d_0c_3x1_B\n",
            "__________________________________________________________________________________________________\n",
            "Block8_3_Concatenate (Concatena (None, 3, 3, 384)    0           Block8_3_Branch_0_Conv2d_1x1_Acti\n",
            "                                                                 Block8_3_Branch_1_Conv2d_0c_3x1_A\n",
            "__________________________________________________________________________________________________\n",
            "Block8_3_Conv2d_1x1 (Conv2D)    (None, 3, 3, 1792)   689920      Block8_3_Concatenate[0][0]       \n",
            "__________________________________________________________________________________________________\n",
            "Block8_3_ScaleSum (Lambda)      (None, 3, 3, 1792)   0           Block8_2_Activation[0][0]        \n",
            "                                                                 Block8_3_Conv2d_1x1[0][0]        \n",
            "__________________________________________________________________________________________________\n",
            "Block8_3_Activation (Activation (None, 3, 3, 1792)   0           Block8_3_ScaleSum[0][0]          \n",
            "__________________________________________________________________________________________________\n",
            "Block8_4_Branch_1_Conv2d_0a_1x1 (None, 3, 3, 192)    344064      Block8_3_Activation[0][0]        \n",
            "__________________________________________________________________________________________________\n",
            "Block8_4_Branch_1_Conv2d_0a_1x1 (None, 3, 3, 192)    576         Block8_4_Branch_1_Conv2d_0a_1x1[0\n",
            "__________________________________________________________________________________________________\n",
            "Block8_4_Branch_1_Conv2d_0a_1x1 (None, 3, 3, 192)    0           Block8_4_Branch_1_Conv2d_0a_1x1_B\n",
            "__________________________________________________________________________________________________\n",
            "Block8_4_Branch_1_Conv2d_0b_1x3 (None, 3, 3, 192)    110592      Block8_4_Branch_1_Conv2d_0a_1x1_A\n",
            "__________________________________________________________________________________________________\n",
            "Block8_4_Branch_1_Conv2d_0b_1x3 (None, 3, 3, 192)    576         Block8_4_Branch_1_Conv2d_0b_1x3[0\n",
            "__________________________________________________________________________________________________\n",
            "Block8_4_Branch_1_Conv2d_0b_1x3 (None, 3, 3, 192)    0           Block8_4_Branch_1_Conv2d_0b_1x3_B\n",
            "__________________________________________________________________________________________________\n",
            "Block8_4_Branch_0_Conv2d_1x1 (C (None, 3, 3, 192)    344064      Block8_3_Activation[0][0]        \n",
            "__________________________________________________________________________________________________\n",
            "Block8_4_Branch_1_Conv2d_0c_3x1 (None, 3, 3, 192)    110592      Block8_4_Branch_1_Conv2d_0b_1x3_A\n",
            "__________________________________________________________________________________________________\n",
            "Block8_4_Branch_0_Conv2d_1x1_Ba (None, 3, 3, 192)    576         Block8_4_Branch_0_Conv2d_1x1[0][0\n",
            "__________________________________________________________________________________________________\n",
            "Block8_4_Branch_1_Conv2d_0c_3x1 (None, 3, 3, 192)    576         Block8_4_Branch_1_Conv2d_0c_3x1[0\n",
            "__________________________________________________________________________________________________\n",
            "Block8_4_Branch_0_Conv2d_1x1_Ac (None, 3, 3, 192)    0           Block8_4_Branch_0_Conv2d_1x1_Batc\n",
            "__________________________________________________________________________________________________\n",
            "Block8_4_Branch_1_Conv2d_0c_3x1 (None, 3, 3, 192)    0           Block8_4_Branch_1_Conv2d_0c_3x1_B\n",
            "__________________________________________________________________________________________________\n",
            "Block8_4_Concatenate (Concatena (None, 3, 3, 384)    0           Block8_4_Branch_0_Conv2d_1x1_Acti\n",
            "                                                                 Block8_4_Branch_1_Conv2d_0c_3x1_A\n",
            "__________________________________________________________________________________________________\n",
            "Block8_4_Conv2d_1x1 (Conv2D)    (None, 3, 3, 1792)   689920      Block8_4_Concatenate[0][0]       \n",
            "__________________________________________________________________________________________________\n",
            "Block8_4_ScaleSum (Lambda)      (None, 3, 3, 1792)   0           Block8_3_Activation[0][0]        \n",
            "                                                                 Block8_4_Conv2d_1x1[0][0]        \n",
            "__________________________________________________________________________________________________\n",
            "Block8_4_Activation (Activation (None, 3, 3, 1792)   0           Block8_4_ScaleSum[0][0]          \n",
            "__________________________________________________________________________________________________\n",
            "Block8_5_Branch_1_Conv2d_0a_1x1 (None, 3, 3, 192)    344064      Block8_4_Activation[0][0]        \n",
            "__________________________________________________________________________________________________\n",
            "Block8_5_Branch_1_Conv2d_0a_1x1 (None, 3, 3, 192)    576         Block8_5_Branch_1_Conv2d_0a_1x1[0\n",
            "__________________________________________________________________________________________________\n",
            "Block8_5_Branch_1_Conv2d_0a_1x1 (None, 3, 3, 192)    0           Block8_5_Branch_1_Conv2d_0a_1x1_B\n",
            "__________________________________________________________________________________________________\n",
            "Block8_5_Branch_1_Conv2d_0b_1x3 (None, 3, 3, 192)    110592      Block8_5_Branch_1_Conv2d_0a_1x1_A\n",
            "__________________________________________________________________________________________________\n",
            "Block8_5_Branch_1_Conv2d_0b_1x3 (None, 3, 3, 192)    576         Block8_5_Branch_1_Conv2d_0b_1x3[0\n",
            "__________________________________________________________________________________________________\n",
            "Block8_5_Branch_1_Conv2d_0b_1x3 (None, 3, 3, 192)    0           Block8_5_Branch_1_Conv2d_0b_1x3_B\n",
            "__________________________________________________________________________________________________\n",
            "Block8_5_Branch_0_Conv2d_1x1 (C (None, 3, 3, 192)    344064      Block8_4_Activation[0][0]        \n",
            "__________________________________________________________________________________________________\n",
            "Block8_5_Branch_1_Conv2d_0c_3x1 (None, 3, 3, 192)    110592      Block8_5_Branch_1_Conv2d_0b_1x3_A\n",
            "__________________________________________________________________________________________________\n",
            "Block8_5_Branch_0_Conv2d_1x1_Ba (None, 3, 3, 192)    576         Block8_5_Branch_0_Conv2d_1x1[0][0\n",
            "__________________________________________________________________________________________________\n",
            "Block8_5_Branch_1_Conv2d_0c_3x1 (None, 3, 3, 192)    576         Block8_5_Branch_1_Conv2d_0c_3x1[0\n",
            "__________________________________________________________________________________________________\n",
            "Block8_5_Branch_0_Conv2d_1x1_Ac (None, 3, 3, 192)    0           Block8_5_Branch_0_Conv2d_1x1_Batc\n",
            "__________________________________________________________________________________________________\n",
            "Block8_5_Branch_1_Conv2d_0c_3x1 (None, 3, 3, 192)    0           Block8_5_Branch_1_Conv2d_0c_3x1_B\n",
            "__________________________________________________________________________________________________\n",
            "Block8_5_Concatenate (Concatena (None, 3, 3, 384)    0           Block8_5_Branch_0_Conv2d_1x1_Acti\n",
            "                                                                 Block8_5_Branch_1_Conv2d_0c_3x1_A\n",
            "__________________________________________________________________________________________________\n",
            "Block8_5_Conv2d_1x1 (Conv2D)    (None, 3, 3, 1792)   689920      Block8_5_Concatenate[0][0]       \n",
            "__________________________________________________________________________________________________\n",
            "Block8_5_ScaleSum (Lambda)      (None, 3, 3, 1792)   0           Block8_4_Activation[0][0]        \n",
            "                                                                 Block8_5_Conv2d_1x1[0][0]        \n",
            "__________________________________________________________________________________________________\n",
            "Block8_5_Activation (Activation (None, 3, 3, 1792)   0           Block8_5_ScaleSum[0][0]          \n",
            "__________________________________________________________________________________________________\n",
            "Block8_6_Branch_1_Conv2d_0a_1x1 (None, 3, 3, 192)    344064      Block8_5_Activation[0][0]        \n",
            "__________________________________________________________________________________________________\n",
            "Block8_6_Branch_1_Conv2d_0a_1x1 (None, 3, 3, 192)    576         Block8_6_Branch_1_Conv2d_0a_1x1[0\n",
            "__________________________________________________________________________________________________\n",
            "Block8_6_Branch_1_Conv2d_0a_1x1 (None, 3, 3, 192)    0           Block8_6_Branch_1_Conv2d_0a_1x1_B\n",
            "__________________________________________________________________________________________________\n",
            "Block8_6_Branch_1_Conv2d_0b_1x3 (None, 3, 3, 192)    110592      Block8_6_Branch_1_Conv2d_0a_1x1_A\n",
            "__________________________________________________________________________________________________\n",
            "Block8_6_Branch_1_Conv2d_0b_1x3 (None, 3, 3, 192)    576         Block8_6_Branch_1_Conv2d_0b_1x3[0\n",
            "__________________________________________________________________________________________________\n",
            "Block8_6_Branch_1_Conv2d_0b_1x3 (None, 3, 3, 192)    0           Block8_6_Branch_1_Conv2d_0b_1x3_B\n",
            "__________________________________________________________________________________________________\n",
            "Block8_6_Branch_0_Conv2d_1x1 (C (None, 3, 3, 192)    344064      Block8_5_Activation[0][0]        \n",
            "__________________________________________________________________________________________________\n",
            "Block8_6_Branch_1_Conv2d_0c_3x1 (None, 3, 3, 192)    110592      Block8_6_Branch_1_Conv2d_0b_1x3_A\n",
            "__________________________________________________________________________________________________\n",
            "Block8_6_Branch_0_Conv2d_1x1_Ba (None, 3, 3, 192)    576         Block8_6_Branch_0_Conv2d_1x1[0][0\n",
            "__________________________________________________________________________________________________\n",
            "Block8_6_Branch_1_Conv2d_0c_3x1 (None, 3, 3, 192)    576         Block8_6_Branch_1_Conv2d_0c_3x1[0\n",
            "__________________________________________________________________________________________________\n",
            "Block8_6_Branch_0_Conv2d_1x1_Ac (None, 3, 3, 192)    0           Block8_6_Branch_0_Conv2d_1x1_Batc\n",
            "__________________________________________________________________________________________________\n",
            "Block8_6_Branch_1_Conv2d_0c_3x1 (None, 3, 3, 192)    0           Block8_6_Branch_1_Conv2d_0c_3x1_B\n",
            "__________________________________________________________________________________________________\n",
            "Block8_6_Concatenate (Concatena (None, 3, 3, 384)    0           Block8_6_Branch_0_Conv2d_1x1_Acti\n",
            "                                                                 Block8_6_Branch_1_Conv2d_0c_3x1_A\n",
            "__________________________________________________________________________________________________\n",
            "Block8_6_Conv2d_1x1 (Conv2D)    (None, 3, 3, 1792)   689920      Block8_6_Concatenate[0][0]       \n",
            "__________________________________________________________________________________________________\n",
            "Block8_6_ScaleSum (Lambda)      (None, 3, 3, 1792)   0           Block8_5_Activation[0][0]        \n",
            "                                                                 Block8_6_Conv2d_1x1[0][0]        \n",
            "__________________________________________________________________________________________________\n",
            "AvgPool (GlobalAveragePooling2D (None, 1792)         0           Block8_6_ScaleSum[0][0]          \n",
            "__________________________________________________________________________________________________\n",
            "Dropout (Dropout)               (None, 1792)         0           AvgPool[0][0]                    \n",
            "__________________________________________________________________________________________________\n",
            "Bottleneck (Dense)              (None, 128)          229376      Dropout[0][0]                    \n",
            "__________________________________________________________________________________________________\n",
            "Bottleneck_BatchNorm (BatchNorm (None, 128)          384         Bottleneck[0][0]                 \n",
            "==================================================================================================\n",
            "Total params: 22,808,144\n",
            "Trainable params: 22,779,312\n",
            "Non-trainable params: 28,832\n",
            "__________________________________________________________________________________________________\n"
          ],
          "name": "stdout"
        }
      ]
    },
    {
      "cell_type": "code",
      "metadata": {
        "id": "FVYkLb0QqISY",
        "colab_type": "code",
        "colab": {
          "base_uri": "https://localhost:8080/",
          "height": 85
        },
        "outputId": "fbbce22d-c3de-4e0e-a475-d25a3ccbc553"
      },
      "source": [
        "# get the embedding feature for each face in traininng dataset\n",
        "newTrainX = list()\n",
        "newTrainY = list()\n",
        "for index, face_pixels in enumerate(trainX):\n",
        "\tif face_pixels is None:\n",
        "\t\tcontinue\n",
        "\tembedding = get_embedding(model, face_pixels)\n",
        "\tnewTrainX.append(embedding)\n",
        "\tnewTrainY.append(trainy[index])\n",
        "newTrainX = np.asarray(newTrainX)\n",
        "newTrainY = np.asarray(newTrainY)\n",
        "print(newTrainX.shape)\n",
        "print(newTrainY.shape)\n",
        "\n",
        "# get the embedding feature for each face in testing dataset\n",
        "newTestX = list()\n",
        "newTestY = list()\n",
        "for index, face_pixels in enumerate(testX):\n",
        "\tif face_pixels is None:\n",
        "\t\tcontinue\n",
        "\tembedding = get_embedding(model, face_pixels)\n",
        "\tnewTestX.append(embedding)\n",
        "\tnewTestY.append(testy[index])\n",
        "newTestX = np.asarray(newTestX)\n",
        "newTestY = np.asarray(newTestY)\n",
        "print(newTestX.shape)\n",
        "print(newTestY.shape)\n",
        "# save arrays to one file in compressed format\n",
        "np.savez_compressed('dataset-embeddings.npz', newTrainX, newTrainY, newTestX, newTestY)"
      ],
      "execution_count": 11,
      "outputs": [
        {
          "output_type": "stream",
          "text": [
            "(158, 128)\n",
            "(158,)\n",
            "(35, 128)\n",
            "(35,)\n"
          ],
          "name": "stdout"
        }
      ]
    },
    {
      "cell_type": "code",
      "metadata": {
        "id": "G2zcmEGnqISd",
        "colab_type": "code",
        "colab": {
          "base_uri": "https://localhost:8080/",
          "height": 34
        },
        "outputId": "7940042a-d77c-40a6-b803-b7a6848771e5"
      },
      "source": [
        "# load the embedding dataset for classification\n",
        "data = np.load('dataset-embeddings.npz')\n",
        "trainX, trainy, testX, testy = data['arr_0'], data['arr_1'], data['arr_2'], data['arr_3']\n",
        "print('Dataset: train=%d, test=%d' % (trainX.shape[0], testX.shape[0]))"
      ],
      "execution_count": 12,
      "outputs": [
        {
          "output_type": "stream",
          "text": [
            "Dataset: train=158, test=35\n"
          ],
          "name": "stdout"
        }
      ]
    },
    {
      "cell_type": "code",
      "metadata": {
        "id": "fp0OvLSeqISg",
        "colab_type": "code",
        "colab": {}
      },
      "source": [
        "# normalize input vectors\n",
        "in_encoder = Normalizer(norm='l2')\n",
        "trainX = in_encoder.transform(trainX)\n",
        "testX = in_encoder.transform(testX)"
      ],
      "execution_count": 0,
      "outputs": []
    },
    {
      "cell_type": "code",
      "metadata": {
        "id": "XI8EO2CHqISl",
        "colab_type": "code",
        "colab": {}
      },
      "source": [
        "# label encode targets\n",
        "out_encoder = LabelEncoder()\n",
        "out_encoder.fit(trainy)\n",
        "trainy = out_encoder.transform(trainy)\n",
        "testy = out_encoder.transform(testy)"
      ],
      "execution_count": 0,
      "outputs": []
    },
    {
      "cell_type": "code",
      "metadata": {
        "id": "oa8tcTKXFQsS",
        "colab_type": "code",
        "colab": {}
      },
      "source": [
        "accuracy_train = {'SVM':0,'kNN':0,'DT':0,'NN':0}\n",
        "accuracy_test = {'SVM':0,'kNN':0,'DT':0,'NN':0}"
      ],
      "execution_count": 0,
      "outputs": []
    },
    {
      "cell_type": "code",
      "metadata": {
        "id": "dl8tqunYOzB2",
        "colab_type": "code",
        "colab": {}
      },
      "source": [
        "class_names = ['yangzhiting','jiayue', 'zhouguanghui', 'xiwei', 'lora', 'mag', 'yuting', 'huangjenney', 'olivia', 'lilewei']"
      ],
      "execution_count": 0,
      "outputs": []
    },
    {
      "cell_type": "code",
      "metadata": {
        "id": "2YCHL69NqISp",
        "colab_type": "code",
        "colab": {
          "base_uri": "https://localhost:8080/",
          "height": 85
        },
        "outputId": "a0365710-fdd8-4be6-8a1c-3e9576eb9217"
      },
      "source": [
        "# fit model\n",
        "model = SVC(kernel='linear', probability=True)\n",
        "model.fit(trainX, trainy)"
      ],
      "execution_count": 81,
      "outputs": [
        {
          "output_type": "execute_result",
          "data": {
            "text/plain": [
              "SVC(C=1.0, break_ties=False, cache_size=200, class_weight=None, coef0=0.0,\n",
              "    decision_function_shape='ovr', degree=3, gamma='scale', kernel='linear',\n",
              "    max_iter=-1, probability=True, random_state=None, shrinking=True, tol=0.001,\n",
              "    verbose=False)"
            ]
          },
          "metadata": {
            "tags": []
          },
          "execution_count": 81
        }
      ]
    },
    {
      "cell_type": "code",
      "metadata": {
        "colab_type": "code",
        "id": "qad3dQ6hOIZc",
        "colab": {
          "base_uri": "https://localhost:8080/",
          "height": 356
        },
        "outputId": "7621b254-3919-461c-de56-3ecc5bd41645"
      },
      "source": [
        "disp = plot_confusion_matrix(model, testX, testy, display_labels=class_names,cmap=plt.cm.Blues,normalize='true',xticks_rotation='vertical', include_values=False)\n",
        "disp.ax_.set_title('The Confusion matrix obtained by SVM')\n",
        "\n",
        "plt.show()\n"
      ],
      "execution_count": 82,
      "outputs": [
        {
          "output_type": "display_data",
          "data": {
            "image/png": "[encoded data removed]",
            "text/plain": [
              "<Figure size 432x288 with 2 Axes>"
            ]
          },
          "metadata": {
            "tags": [],
            "needs_background": "light"
          }
        }
      ]
    },
    {
      "cell_type": "code",
      "metadata": {
        "id": "2pRk60XfqISt",
        "colab_type": "code",
        "colab": {
          "base_uri": "https://localhost:8080/",
          "height": 34
        },
        "outputId": "fbb320c0-e7b1-4fbe-9892-3bc58527ae99"
      },
      "source": [
        "# predict\n",
        "yhat_train = model.predict(trainX)\n",
        "yhat_test = model.predict(testX)\n",
        "# score\n",
        "score_train = accuracy_score(trainy, yhat_train)\n",
        "score_test = accuracy_score(testy, yhat_test)\n",
        "# summarize\n",
        "print('Accuracy: train=%.3f, test=%.3f' % (score_train*100, score_test*100))\n",
        "accuracy_train['SVM'] = score_train*100\n",
        "accuracy_test['SVM'] = score_test*100"
      ],
      "execution_count": 83,
      "outputs": [
        {
          "output_type": "stream",
          "text": [
            "Accuracy: train=99.367, test=94.286\n"
          ],
          "name": "stdout"
        }
      ]
    },
    {
      "cell_type": "code",
      "metadata": {
        "colab_type": "code",
        "outputId": "a3e36c3a-6ff1-4446-fd78-7ad9949c578e",
        "id": "268JZxVDC1TT",
        "colab": {
          "base_uri": "https://localhost:8080/",
          "height": 119
        }
      },
      "source": [
        "# fit model\n",
        "model = DecisionTreeClassifier(random_state=0,max_depth=5)\n",
        "model.fit(trainX, trainy)"
      ],
      "execution_count": 84,
      "outputs": [
        {
          "output_type": "execute_result",
          "data": {
            "text/plain": [
              "DecisionTreeClassifier(ccp_alpha=0.0, class_weight=None, criterion='gini',\n",
              "                       max_depth=5, max_features=None, max_leaf_nodes=None,\n",
              "                       min_impurity_decrease=0.0, min_impurity_split=None,\n",
              "                       min_samples_leaf=1, min_samples_split=2,\n",
              "                       min_weight_fraction_leaf=0.0, presort='deprecated',\n",
              "                       random_state=0, splitter='best')"
            ]
          },
          "metadata": {
            "tags": []
          },
          "execution_count": 84
        }
      ]
    },
    {
      "cell_type": "code",
      "metadata": {
        "id": "RDhyD0aCGt_d",
        "colab_type": "code",
        "colab": {
          "base_uri": "https://localhost:8080/",
          "height": 356
        },
        "outputId": "8e59fdba-6909-4400-f844-bd4d14a0dda9"
      },
      "source": [
        "disp = plot_confusion_matrix(model, testX, testy, display_labels=class_names,cmap=plt.cm.Blues,normalize='true',xticks_rotation='vertical', include_values=False)\n",
        "disp.ax_.set_title('The Confusion matrix obtained by DT')\n",
        "\n",
        "plt.show()\n"
      ],
      "execution_count": 85,
      "outputs": [
        {
          "output_type": "display_data",
          "data": {
            "image/png": "[encoded data removed]",
            "text/plain": [
              "<Figure size 432x288 with 2 Axes>"
            ]
          },
          "metadata": {
            "tags": [],
            "needs_background": "light"
          }
        }
      ]
    },
    {
      "cell_type": "code",
      "metadata": {
        "colab_type": "code",
        "outputId": "1d19edc7-d28c-4e24-8029-cfd138547ea8",
        "id": "_ejzpgJxDYbv",
        "colab": {
          "base_uri": "https://localhost:8080/",
          "height": 34
        }
      },
      "source": [
        "# predict\n",
        "yhat_train = model.predict(trainX)\n",
        "yhat_test = model.predict(testX)\n",
        "# score\n",
        "score_train = accuracy_score(trainy, yhat_train)\n",
        "score_test = accuracy_score(testy, yhat_test)\n",
        "# summarize\n",
        "print('Accuracy: train=%.3f, test=%.3f' % (score_train*100, score_test*100))\n",
        "accuracy_train['DT'] = score_train*100\n",
        "accuracy_test['DT'] = score_test*100"
      ],
      "execution_count": 86,
      "outputs": [
        {
          "output_type": "stream",
          "text": [
            "Accuracy: train=69.620, test=54.286\n"
          ],
          "name": "stdout"
        }
      ]
    },
    {
      "cell_type": "code",
      "metadata": {
        "id": "R9fUbPo3DTI8",
        "colab_type": "code",
        "colab": {
          "base_uri": "https://localhost:8080/",
          "height": 153
        },
        "outputId": "e81920c9-2ac0-45cd-f5cb-8ad7cf2e9a5f"
      },
      "source": [
        "# fit model\n",
        "model = MLPClassifier(alpha=1, hidden_layer_sizes=10, max_iter=1000)\n",
        "model.fit(trainX, trainy)"
      ],
      "execution_count": 94,
      "outputs": [
        {
          "output_type": "execute_result",
          "data": {
            "text/plain": [
              "MLPClassifier(activation='relu', alpha=1, batch_size='auto', beta_1=0.9,\n",
              "              beta_2=0.999, early_stopping=False, epsilon=1e-08,\n",
              "              hidden_layer_sizes=10, learning_rate='constant',\n",
              "              learning_rate_init=0.001, max_fun=15000, max_iter=1000,\n",
              "              momentum=0.9, n_iter_no_change=10, nesterovs_momentum=True,\n",
              "              power_t=0.5, random_state=None, shuffle=True, solver='adam',\n",
              "              tol=0.0001, validation_fraction=0.1, verbose=False,\n",
              "              warm_start=False)"
            ]
          },
          "metadata": {
            "tags": []
          },
          "execution_count": 94
        }
      ]
    },
    {
      "cell_type": "code",
      "metadata": {
        "colab_type": "code",
        "id": "M6MacOm6OOqc",
        "colab": {
          "base_uri": "https://localhost:8080/",
          "height": 356
        },
        "outputId": "d9a144f5-f41c-4712-c76f-d6c8424d8a17"
      },
      "source": [
        "disp = plot_confusion_matrix(model, testX, testy, display_labels=class_names,cmap=plt.cm.Blues,normalize='true',xticks_rotation='vertical', include_values=False)\n",
        "disp.ax_.set_title('The Confusion matrix obtained by NN')\n",
        "\n",
        "plt.show()\n"
      ],
      "execution_count": 95,
      "outputs": [
        {
          "output_type": "display_data",
          "data": {
            "image/png": "[encoded data removed]",
            "text/plain": [
              "<Figure size 432x288 with 2 Axes>"
            ]
          },
          "metadata": {
            "tags": [],
            "needs_background": "light"
          }
        }
      ]
    },
    {
      "cell_type": "code",
      "metadata": {
        "colab_type": "code",
        "outputId": "b2212947-14c4-4591-e079-6adba35a9ff3",
        "id": "JjQ-vjcAD3IS",
        "colab": {
          "base_uri": "https://localhost:8080/",
          "height": 34
        }
      },
      "source": [
        "# predict\n",
        "yhat_train = model.predict(trainX)\n",
        "yhat_test = model.predict(testX)\n",
        "# score\n",
        "score_train = accuracy_score(trainy, yhat_train)\n",
        "score_test = accuracy_score(testy, yhat_test)\n",
        "# summarize\n",
        "print('Accuracy: train=%.3f, test=%.3f' % (score_train*100, score_test*100))\n",
        "accuracy_train['NN'] = score_train*100\n",
        "accuracy_test['NN'] = score_test*100"
      ],
      "execution_count": 96,
      "outputs": [
        {
          "output_type": "stream",
          "text": [
            "Accuracy: train=99.367, test=91.429\n"
          ],
          "name": "stdout"
        }
      ]
    },
    {
      "cell_type": "code",
      "metadata": {
        "colab_type": "code",
        "outputId": "ce2a965a-ddcd-4fe2-9f06-64e9e7d7c043",
        "id": "5fpfWxG-EHXg",
        "colab": {
          "base_uri": "https://localhost:8080/",
          "height": 68
        }
      },
      "source": [
        "# fit model\n",
        "model = KNeighborsClassifier(n_neighbors=3)\n",
        "model.fit(trainX, trainy)"
      ],
      "execution_count": 97,
      "outputs": [
        {
          "output_type": "execute_result",
          "data": {
            "text/plain": [
              "KNeighborsClassifier(algorithm='auto', leaf_size=30, metric='minkowski',\n",
              "                     metric_params=None, n_jobs=None, n_neighbors=3, p=2,\n",
              "                     weights='uniform')"
            ]
          },
          "metadata": {
            "tags": []
          },
          "execution_count": 97
        }
      ]
    },
    {
      "cell_type": "code",
      "metadata": {
        "colab_type": "code",
        "id": "FQpUKT57OMBU",
        "colab": {
          "base_uri": "https://localhost:8080/",
          "height": 356
        },
        "outputId": "bb5880b2-b974-4d64-edd7-e9841833ce5a"
      },
      "source": [
        "disp = plot_confusion_matrix(model, testX, testy, display_labels=class_names,cmap=plt.cm.Blues,normalize='true',xticks_rotation='vertical',include_values=False)\n",
        "disp.ax_.set_title('The Confusion matrix obtained by kNN')\n",
        "\n",
        "plt.show()\n"
      ],
      "execution_count": 98,
      "outputs": [
        {
          "output_type": "display_data",
          "data": {
            "image/png": "[encoded data removed]",
            "text/plain": [
              "<Figure size 432x288 with 2 Axes>"
            ]
          },
          "metadata": {
            "tags": [],
            "needs_background": "light"
          }
        }
      ]
    },
    {
      "cell_type": "code",
      "metadata": {
        "colab_type": "code",
        "outputId": "b50bf3a6-7371-4210-af8e-79772d88d65d",
        "id": "S8-APRfyEHXn",
        "colab": {
          "base_uri": "https://localhost:8080/",
          "height": 34
        }
      },
      "source": [
        "# predict\n",
        "yhat_train = model.predict(trainX)\n",
        "yhat_test = model.predict(testX)\n",
        "# score\n",
        "score_train = accuracy_score(trainy, yhat_train)\n",
        "score_test = accuracy_score(testy, yhat_test)\n",
        "# summarize\n",
        "print('Accuracy: train=%.3f, test=%.3f' % (score_train*100, score_test*100))\n",
        "accuracy_train['kNN'] = score_train*100\n",
        "accuracy_test['kNN'] = score_test*100"
      ],
      "execution_count": 99,
      "outputs": [
        {
          "output_type": "stream",
          "text": [
            "Accuracy: train=98.734, test=88.571\n"
          ],
          "name": "stdout"
        }
      ]
    },
    {
      "cell_type": "code",
      "metadata": {
        "id": "nd7F20gjDzk6",
        "colab_type": "code",
        "colab": {
          "base_uri": "https://localhost:8080/",
          "height": 265
        },
        "outputId": "143306fd-7ace-4c10-cbda-dfd81cc22a2e"
      },
      "source": [
        "import matplotlib.pyplot as plt\n",
        "\n",
        "train_ticks = range(len(accuracy_train))\n",
        "test_ticks = [x+0.3 for x in range(len(accuracy_test))]\n",
        "label_ticks = [x+0.15 for x in train_ticks]\n",
        "\n",
        "plt.bar(train_ticks, list(accuracy_train.values()), align='center',width=0.2, label='Train accuracy')\n",
        "plt.bar(test_ticks, list(accuracy_test.values()),width=0.2, label='Test accuracy')\n",
        "plt.xticks(label_ticks, list(accuracy_train.keys()))\n",
        "\n",
        "plt.legend(loc='best')\n",
        "plt.grid(axis='y')\n",
        "plt.show()\n"
      ],
      "execution_count": 100,
      "outputs": [
        {
          "output_type": "display_data",
          "data": {
            "image/png": "[encoded data removed]",
            "text/plain": [
              "<Figure size 432x288 with 1 Axes>"
            ]
          },
          "metadata": {
            "tags": [],
            "needs_background": "light"
          }
        }
      ]
    }
  ]
}